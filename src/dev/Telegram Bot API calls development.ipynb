{
 "cells": [
  {
   "cell_type": "code",
   "execution_count": 1,
   "id": "08ec61c4-da07-4004-9155-37e7cad0a4d1",
   "metadata": {},
   "outputs": [],
   "source": [
    "import requests\n",
    "import json\n",
    "import sys\n",
    "sys.path.append(r\"C:\\Users\\tanch\\Desktop\\Bot.World\\Bot.World\\src\\main\\api\")\n",
    "sys.path.append(r\"C:\\Users\\tanch\\Desktop\\Bot.World\\Bot.World\\src\\main\\api\\fastapi\")\n",
    "from bot_world_config import load_telegram_bot_config, load_seller_config\n",
    "from bot_world_classes import TelegramRecommendation, Product"
   ]
  },
  {
   "cell_type": "code",
   "execution_count": 2,
   "id": "8a4276aa-a4d6-4dd5-b834-2f2582b17fd8",
   "metadata": {},
   "outputs": [],
   "source": [
    "import telegram"
   ]
  },
  {
   "cell_type": "code",
   "execution_count": 3,
   "id": "1e2fea07-5cf3-4562-a4b5-b5dfc35ec16c",
   "metadata": {},
   "outputs": [],
   "source": [
    "CONFIG = load_telegram_bot_config()\n",
    "CONFIG.update(load_seller_config())"
   ]
  },
  {
   "cell_type": "code",
   "execution_count": 76,
   "id": "c840458a-f56f-4c29-a77b-a8f100bd9500",
   "metadata": {},
   "outputs": [
    {
     "data": {
      "text/plain": [
       "'6152761301:AAE-VFcRJn7r40lbNOEC5QX5rZCY4DjGULA'"
      ]
     },
     "execution_count": 76,
     "metadata": {},
     "output_type": "execute_result"
    }
   ],
   "source": [
    "CONFIG['BOT_TOKEN']"
   ]
  },
  {
   "cell_type": "code",
   "execution_count": 13,
   "id": "b88ba9ea-e837-4412-b8ac-b8f140a65473",
   "metadata": {},
   "outputs": [],
   "source": [
    "bot = telegram.Bot(CONFIG['BOT_TOKEN'])"
   ]
  },
  {
   "cell_type": "code",
   "execution_count": 4,
   "id": "cea8ec69-a519-4e55-beb0-e3823c48c174",
   "metadata": {},
   "outputs": [
    {
     "name": "stdout",
     "output_type": "stream",
     "text": [
      "Telegram Messages Send Success!\n"
     ]
    }
   ],
   "source": [
    "\n",
    "\n",
    "r = requests.post(\n",
    "        url = f\"https://api.telegram.org/bot{config['BOT_TOKEN']}/sendPhoto\", \n",
    "        data = {\n",
    "            \"chat_id\": telegram_recommendation.chat_id, \n",
    "            \"photo\": telegram_recommendation.item.image_url,\n",
    "            \"caption\": telegram_recommendation.item.product_name,\n",
    "            \"reply_markup\":json.dumps({\n",
    "            \"inline_keyboard\":[[\n",
    "                    {\n",
    "                        \"text\":\"Purchase Item\",\n",
    "                        \"url\":f\"https://shopee.sg/product/{config['SELLER_ID']}/{telegram_recommendation.item.product_id}\"\n",
    "                    }\n",
    "                ]]\n",
    "            })\n",
    "        }\n",
    "    )\n",
    "\n",
    "\n",
    "\n"
   ]
  },
  {
   "cell_type": "code",
   "execution_count": 5,
   "id": "87505004-adef-4676-9d22-14577a5b34b7",
   "metadata": {},
   "outputs": [],
   "source": [
    "send_telegram_recommendation(\n",
    "    config = CONFIG, \n",
    "    telegram_recommendation = TelegramRecommendation(\n",
    "        chat_id = 513516525, \n",
    "        item = Product(product_id = 23826146098, product_name = \"a product name\", categories = \"a product category\", image_url = \"https://cf.shopee.sg/file/sg-11134207-23020-9nqha14zvsnvf4\")\n",
    "    )                    \n",
    ")"
   ]
  },
  {
   "cell_type": "code",
   "execution_count": 6,
   "id": "63147e55-1c48-4eb6-abf7-3f99b15a3a25",
   "metadata": {},
   "outputs": [
    {
     "name": "stdout",
     "output_type": "stream",
     "text": [
      "Webhook set up successfully\n"
     ]
    }
   ],
   "source": [
    "import requests\n",
    "\n",
    "bot_token = \n"
   ]
  },
  {
   "cell_type": "markdown",
   "id": "ad3f6bbd-8c33-4265-abcd-593f41338a65",
   "metadata": {},
   "source": [
    "#### sets a webhook url\n",
    "- updates are sent to webhook url"
   ]
  },
  {
   "cell_type": "code",
   "execution_count": 60,
   "id": "e7599bca-6c6a-471f-a5ce-d2fcfe2c940e",
   "metadata": {},
   "outputs": [
    {
     "data": {
      "text/plain": [
       "<Response [200]>"
      ]
     },
     "execution_count": 60,
     "metadata": {},
     "output_type": "execute_result"
    }
   ],
   "source": [
    "webhook_url = 'https://dsaichingfhen.com/webhook'\n",
    "requests.post(f\"https://api.telegram.org/bot{CONFIG['BOT_TOKEN']}/setWebhook?url={webhook_url}\")"
   ]
  },
  {
   "cell_type": "markdown",
   "id": "7a4ceeca-869a-46e4-85b3-5b4ea8184811",
   "metadata": {},
   "source": [
    "#### removes the webhook url previously set"
   ]
  },
  {
   "cell_type": "code",
   "execution_count": 72,
   "id": "48378021-9544-4dd6-85ad-b52e55e109df",
   "metadata": {},
   "outputs": [],
   "source": [
    "r = requests.post(f'https://api.telegram.org/bot{bot_token}/setWebhook', data={'url': ''})"
   ]
  },
  {
   "cell_type": "markdown",
   "id": "10804055-bd97-4ac7-8ab4-d4bf358d6063",
   "metadata": {},
   "source": [
    "#### show webhook"
   ]
  },
  {
   "cell_type": "code",
   "execution_count": 77,
   "id": "d0aa0268-c33c-43b5-afb1-ffe9a79dbf1a",
   "metadata": {},
   "outputs": [
    {
     "data": {
      "text/plain": [
       "'https://wh.manychat.com/tgwh/tg0o83f4yg73hfgi73f2g89938g/6152761301/6f6ba5329b53ae1d02aa327fc4fda3ee63ee2b1d'"
      ]
     },
     "execution_count": 77,
     "metadata": {},
     "output_type": "execute_result"
    }
   ],
   "source": [
    "webhook_obj = await bot.getWebhookInfo()\n",
    "webhook_obj.url"
   ]
  },
  {
   "cell_type": "markdown",
   "id": "4676510c-ba35-46f2-a057-c80094f81b84",
   "metadata": {},
   "source": [
    "    1. when /manychat/recommend is called, database and model is called\n",
    "    2. browse_shop() run\n",
    "        - current (manychat) webhook is removed and saved\n",
    "        - start new webhook pointing to /next-item endpoint\n",
    "        - Shop() i.e. post request is sent (essentially just image and title)\n",
    "    3. when user presses an inline next-item button \n",
    "        - telegram bot api will send a post to webhook\n",
    "        - this will given information about the message ids\n",
    "        - next_item() i.e. post request sent (editting the image and title)\n",
    "    4. Main Menu button pressed\n",
    "        - when main menu is pressed or a certain time has passed\n",
    "        - the webhook is reverted back to manychat webhook\n",
    "        "
   ]
  },
  {
   "cell_type": "code",
   "execution_count": 78,
   "id": "d3a04119-902f-45e9-8439-940059baa62a",
   "metadata": {
    "tags": []
   },
   "outputs": [],
   "source": [
    "import itertools\n",
    "\n",
    "k = 5 \n",
    "items = [f'item {i}' for i in range(k)] \n",
    "\n"
   ]
  },
  {
   "cell_type": "code",
   "execution_count": null,
   "id": "4a2afe85-8b21-4910-a649-efd3d7d33035",
   "metadata": {},
   "outputs": [],
   "source": [
    "for item in itertools.cycle(items):\n",
    "    print(item) # replace this "
   ]
  },
  {
   "cell_type": "code",
   "execution_count": 81,
   "id": "abade554-8b12-4a12-9373-13d67f3a8260",
   "metadata": {},
   "outputs": [],
   "source": [
    "session = itertools.cycle(items)"
   ]
  },
  {
   "cell_type": "code",
   "execution_count": 112,
   "id": "ed193a00-78b9-4f8b-874b-ac7213b24837",
   "metadata": {},
   "outputs": [
    {
     "name": "stdout",
     "output_type": "stream",
     "text": [
      "Created Session!\n",
      "Added ID 0 session!\n",
      "Checked ID 0 session!\n",
      "Recommended ID 0!\n"
     ]
    }
   ],
   "source": [
    "from typing import List, Optional\n",
    "from itertools import cycle\n",
    "\n",
    "\n",
    "\n",
    "\"\"\"\n",
    "Stores a set of recommendations for each unique ID\n",
    "notes:\n",
    "Cycles through the set of recommendations with itertools.cycle\n",
    "\"\"\"\n",
    "class SessionRecommendations(object):\n",
    "    def __init__(self):\n",
    "        self.session = dict()\n",
    "    \"\"\"\n",
    "    Checks that Session recommendations for ID exists \n",
    "    \"\"\"\n",
    "    def exists(self, ID: str):\n",
    "        return self.session.get(str(ID)) is not None\n",
    "    \"\"\"\n",
    "    Add new session - add new set of recommendations\n",
    "    \"\"\"\n",
    "    def add(self, ID: str, recommendations: List):\n",
    "        self.session[str(ID)] = cycle(recommendations)\n",
    "        return\n",
    "    \"\"\"\n",
    "    Make 1 recommendation for unique ID\n",
    "    \"\"\"\n",
    "    def recommend(self, ID: str):  \n",
    "        assert self.exists(str(ID))\n",
    "        return next(self.session[str(ID)])\n",
    "        \n",
    "\n",
    "if __name__==\"__main__\":\n",
    "    session = SessionRecommendations()\n",
    "    print(\"Created Session!\")\n",
    "    ID = \"0\"\n",
    "    session.add(ID, [1,2,3])\n",
    "    print(f\"Added ID {ID} session!\")\n",
    "    assert session.exists(ID)\n",
    "    print(f\"Checked ID {ID} session!\")\n",
    "    session.recommend(ID)\n",
    "    print(f\"Recommended ID {ID}!\")"
   ]
  },
  {
   "cell_type": "code",
   "execution_count": 111,
   "id": "b71ccc60-5d6d-4320-a336-9e74737aca3a",
   "metadata": {},
   "outputs": [
    {
     "data": {
      "text/plain": [
       "{'0': <itertools.cycle at 0x266b9744580>}"
      ]
     },
     "execution_count": 111,
     "metadata": {},
     "output_type": "execute_result"
    }
   ],
   "source": [
    "session.session"
   ]
  }
 ],
 "metadata": {
  "kernelspec": {
   "display_name": "Python 3 (ipykernel)",
   "language": "python",
   "name": "python3"
  },
  "language_info": {
   "codemirror_mode": {
    "name": "ipython",
    "version": 3
   },
   "file_extension": ".py",
   "mimetype": "text/x-python",
   "name": "python",
   "nbconvert_exporter": "python",
   "pygments_lexer": "ipython3",
   "version": "3.9.15"
  }
 },
 "nbformat": 4,
 "nbformat_minor": 5
}
