{
 "cells": [
  {
   "cell_type": "code",
   "execution_count": 28,
   "id": "5c3fb6f9-20d1-44b9-ab3a-226b5cafea55",
   "metadata": {},
   "outputs": [],
   "source": [
    "from collections import deque\n",
    "from typing import List\n",
    "class SessionRecommendations(object):\n",
    "    def __init__(self):\n",
    "        self.session = dict()\n",
    "    \"\"\"\n",
    "    Checks that 1. Session recommendations for a user was made before 2. Session recommendations is not empty\n",
    "    \"\"\"\n",
    "    def session_exists(self, user_id: str):\n",
    "        return (self.session.get(str(user_id)) is not None) and (len(self.session[str(user_id)])>0)\n",
    "    \"\"\"\n",
    "    Add new session - add new set of recommendations\n",
    "    \"\"\"\n",
    "    def add_session(self, user_id: str, recommendations: List):\n",
    "        self.session[str(user_id)] = deque(recommendations)\n",
    "    \"\"\"\n",
    "    Make 1 recommendation for user - if session exists\n",
    "    \"\"\"\n",
    "    def recommend(self, user_id: str):\n",
    "        assert self.session_exists(user_id)\n",
    "        item = self.session[str(user_id)].popleft()\n",
    "        return item "
   ]
  },
  {
   "cell_type": "code",
   "execution_count": 29,
   "id": "58b813b8-09ce-4387-9745-3cae9fd945b9",
   "metadata": {},
   "outputs": [
    {
     "data": {
      "text/plain": [
       "False"
      ]
     },
     "execution_count": 29,
     "metadata": {},
     "output_type": "execute_result"
    }
   ],
   "source": [
    "session  = SessionRecommendations()\n",
    "session.session_exists(\"user123\")"
   ]
  },
  {
   "cell_type": "code",
   "execution_count": 2,
   "id": "7da2977a-55d4-42ed-9aa7-2a0921d54ea7",
   "metadata": {},
   "outputs": [
    {
     "data": {
      "text/plain": [
       "'C:\\\\Users\\\\tanch\\\\Desktop\\\\Bot.World\\\\Bot.World\\\\src\\\\dev\\\\database\\\\arietes\\\\arietes.db'"
      ]
     },
     "execution_count": 2,
     "metadata": {},
     "output_type": "execute_result"
    }
   ],
   "source": [
    "r\"C:\\Users\\tanch\\Desktop\\Bot.World\\Bot.World\\src\\dev\\database\\arietes\\arietes.db\""
   ]
  },
  {
   "cell_type": "code",
   "execution_count": 31,
   "id": "0e153a03-3406-4c0f-a1f4-5716312a0ac7",
   "metadata": {},
   "outputs": [],
   "source": [
    "session.add_session(\"user123\", [('item1', 'url1', 'description1'),\n",
    "       ('item2', 'url2', 'description2'),\n",
    "       ('item3', 'url3', 'description3')])"
   ]
  },
  {
   "cell_type": "code",
   "execution_count": 35,
   "id": "85411e2d-8bf1-4836-8ce4-7f29f7abb830",
   "metadata": {},
   "outputs": [
    {
     "data": {
      "text/plain": [
       "True"
      ]
     },
     "execution_count": 35,
     "metadata": {},
     "output_type": "execute_result"
    }
   ],
   "source": [
    "session.session_exists(\"user123\")"
   ]
  },
  {
   "cell_type": "code",
   "execution_count": 39,
   "id": "730a4f4c-1c88-4c46-911d-a15101b5d0db",
   "metadata": {},
   "outputs": [
    {
     "ename": "AssertionError",
     "evalue": "",
     "output_type": "error",
     "traceback": [
      "\u001b[1;31m---------------------------------------------------------------------------\u001b[0m",
      "\u001b[1;31mAssertionError\u001b[0m                            Traceback (most recent call last)",
      "Cell \u001b[1;32mIn [39], line 1\u001b[0m\n\u001b[1;32m----> 1\u001b[0m \u001b[43msession\u001b[49m\u001b[38;5;241;43m.\u001b[39;49m\u001b[43mrecommend\u001b[49m\u001b[43m(\u001b[49m\u001b[38;5;124;43m\"\u001b[39;49m\u001b[38;5;124;43muser123\u001b[39;49m\u001b[38;5;124;43m\"\u001b[39;49m\u001b[43m)\u001b[49m\n",
      "Cell \u001b[1;32mIn [28], line 12\u001b[0m, in \u001b[0;36mSessionRecommendations.recommend\u001b[1;34m(self, user_id)\u001b[0m\n\u001b[0;32m     11\u001b[0m \u001b[38;5;28;01mdef\u001b[39;00m \u001b[38;5;21mrecommend\u001b[39m(\u001b[38;5;28mself\u001b[39m, user_id: \u001b[38;5;28mstr\u001b[39m):\n\u001b[1;32m---> 12\u001b[0m     \u001b[38;5;28;01massert\u001b[39;00m \u001b[38;5;28mself\u001b[39m\u001b[38;5;241m.\u001b[39msession_exists(user_id)\n\u001b[0;32m     13\u001b[0m     item \u001b[38;5;241m=\u001b[39m \u001b[38;5;28mself\u001b[39m\u001b[38;5;241m.\u001b[39msession[\u001b[38;5;28mstr\u001b[39m(user_id)]\u001b[38;5;241m.\u001b[39mpopleft()\n\u001b[0;32m     14\u001b[0m     \u001b[38;5;28;01mreturn\u001b[39;00m item\n",
      "\u001b[1;31mAssertionError\u001b[0m: "
     ]
    }
   ],
   "source": [
    "session.recommend(\"user123\")"
   ]
  },
  {
   "cell_type": "code",
   "execution_count": null,
   "id": "a5263a3d-364b-4093-97fd-6a827702c0f0",
   "metadata": {},
   "outputs": [],
   "source": []
  },
  {
   "cell_type": "code",
   "execution_count": 20,
   "id": "744b6ecc-26e4-41a1-9534-7a5f91e04a9e",
   "metadata": {},
   "outputs": [],
   "source": [
    "\"\"\"\n",
    "Generates unique identifier for session recommendations\n",
    "notes:\n",
    "given chat_id = 123, user_id = 312\n",
    "id is 123_312\n",
    "\"\"\"\n",
    "def get_session_id(**id_parts):\n",
    "    return \"_\".join(map(str,id_parts.values()))"
   ]
  },
  {
   "cell_type": "code",
   "execution_count": 21,
   "id": "24ac46a1-6b9a-4877-8121-58bae5b1574f",
   "metadata": {},
   "outputs": [
    {
     "data": {
      "text/plain": [
       "'123_312'"
      ]
     },
     "execution_count": 21,
     "metadata": {},
     "output_type": "execute_result"
    }
   ],
   "source": [
    "get_session_id(chat_id = 123, user_id = 312)"
   ]
  }
 ],
 "metadata": {
  "kernelspec": {
   "display_name": "Python 3 (ipykernel)",
   "language": "python",
   "name": "python3"
  },
  "language_info": {
   "codemirror_mode": {
    "name": "ipython",
    "version": 3
   },
   "file_extension": ".py",
   "mimetype": "text/x-python",
   "name": "python",
   "nbconvert_exporter": "python",
   "pygments_lexer": "ipython3",
   "version": "3.9.15"
  }
 },
 "nbformat": 4,
 "nbformat_minor": 5
}
