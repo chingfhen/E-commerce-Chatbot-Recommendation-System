{
 "cells": [
  {
   "cell_type": "markdown",
   "id": "9cb5af0a-8d4b-4ab5-a98e-3895d981526a",
   "metadata": {},
   "source": [
    "# ABOUT:"
   ]
  },
  {
   "cell_type": "code",
   "execution_count": 32,
   "id": "e8eaeb77-3d83-4a48-81ed-4d9fc428ac01",
   "metadata": {},
   "outputs": [],
   "source": [
    "from recommenders.models.sar import SAR\n",
    "from recommenders.datasets.python_splitters import python_stratified_split\n",
    "from recommenders.utils.constants import SEED as DEFAULT_SEED\n",
    "from recommenders.evaluation.python_evaluation import precision_at_k\n",
    "from recommenders.models.deeprec.DataModel.ImplicitCF import ImplicitCF\n",
    "from recommenders.models.deeprec.deeprec_utils import prepare_hparams\n",
    "from recommenders.models.deeprec.models.graphrec.lightgcn import LightGCN\n",
    "from recommenders.utils.timer import Timer\n",
    "\n",
    "import pandas as pd\n",
    "import os\n",
    "import gzip\n",
    "import json\n",
    "import pandas as pd\n",
    "import seaborn as sb\n",
    "from scipy.sparse import save_npz, load_npz\n",
    "from numpy import save, load \n",
    "import json\n",
    "import numpy as np\n",
    "import random\n",
    "import pickle\n",
    "from math import ceil\n",
    "\n",
    "import sys\n",
    "sys.path.append(r'C:\\Users\\tanch\\Desktop\\Bot.World\\Bot.World\\src\\main\\api\\fastapi')\n",
    "sys.path.append(r'C:\\Users\\tanch\\Desktop\\Bot.World\\Bot.World\\src\\main\\api')\n",
    "from model import load_sar_model\n",
    "from bot_world_config import *"
   ]
  },
  {
   "cell_type": "markdown",
   "id": "048317e0-6d76-4741-9a93-7c1f28926e19",
   "metadata": {},
   "source": [
    "### bot_world_config"
   ]
  },
  {
   "cell_type": "code",
   "execution_count": 2,
   "id": "a8e70318-38d4-4e0d-8e54-78a23a6e715e",
   "metadata": {},
   "outputs": [],
   "source": [
    "CONFIG = {}\n",
    "CONFIG.update(load_database_config())\n",
    "CONFIG.update(load_model_config())\n",
    "CONFIG.update(load_session_config())\n",
    "CONFIG.update(load_seller_config())\n",
    "CONFIG.update(load_sar_config())\n",
    "CONFIG.update(load_telegram_bot_config())"
   ]
  },
  {
   "cell_type": "code",
   "execution_count": 3,
   "id": "52fe1fce-d58f-4cd7-9a5c-3ef0cb6cb8d1",
   "metadata": {},
   "outputs": [
    {
     "data": {
      "text/plain": [
       "{'DATABASE_USER': 'ching',\n",
       " 'DATABASE_PASSWORD': '978775!Rtj01',\n",
       " 'DATABASE_HOST': 'aws-bot-world-mysql.c6ecc5e9b7no.ap-southeast-1.rds.amazonaws.com',\n",
       " 'DATABASE_NAME': 'Arietes_Care',\n",
       " 'PRODUCT_INFO_TABLE_NAME': 'product_info',\n",
       " 'USE_RDS': False,\n",
       " 'DATABASE_PATH_TANCH': 'C:\\\\Users\\\\tanch\\\\Desktop\\\\Bot.World\\\\Bot.World\\\\src\\\\main\\\\database\\\\arietes\\\\arietes.db',\n",
       " 'DATABASE_PATH_DOCKER': '/database/arietes/arietes.db',\n",
       " 'MODEL_TYPE': 'sar',\n",
       " 'TOP_K': 10,\n",
       " 'MODEL_SUPPORTED_TYPES': ['sar'],\n",
       " 'SESSION_RECOMMENDATION_SIZE': 5,\n",
       " 'SELLER_ID': '120171733',\n",
       " 'SHOP_NAME': 'Arietes Care',\n",
       " 'SHOP_URL': 'https://shopee.sg/arietes.acc',\n",
       " 'COL_USER': 'user_id',\n",
       " 'COL_ITEM': 'item_id',\n",
       " 'COL_RATING': 'rating',\n",
       " 'SIMILARITY_TYPE': 'jaccard',\n",
       " 'MODEL_DIR': '/api/models/arietes-sar',\n",
       " 'BOT_TOKEN': '6152761301:AAE-VFcRJn7r40lbNOEC5QX5rZCY4DjGULA'}"
      ]
     },
     "execution_count": 3,
     "metadata": {},
     "output_type": "execute_result"
    }
   ],
   "source": [
    "CONFIG"
   ]
  },
  {
   "cell_type": "markdown",
   "id": "e7860e10-1cdd-4373-8f08-18f2edc137c3",
   "metadata": {
    "tags": []
   },
   "source": [
    "### config"
   ]
  },
  {
   "cell_type": "code",
   "execution_count": 4,
   "id": "6dd7016b-d785-4dbb-8926-badd3ab15ea3",
   "metadata": {},
   "outputs": [],
   "source": [
    "KEYWORD_SHOPEE_RAW_TRANSACTION_FILE = \"Order.all\"\n",
    "NON_KEYWORD_SHOPEE_RAW_TRANSACTION_FILE = \"$\"\n",
    "DESIRED_COLS_TRANSACTION_FILE = [\"Order ID\", \"Original Price\", \"Username (Buyer)\", \"Product Name\", \"product_id\"]\n",
    "TRANSACTION_ID_COL = [\"Order ID\"]\n",
    "# USER_ID_COL = \"user_id\"\n",
    "# ITEM_ID_COL = \"item_id\"\n",
    "# RATING_COL = \"rating\"\n",
    "TRANSACTION_TO_INTERACTION_MAPPING = {\n",
    "    CONFIG['COL_USER']:\"Username (Buyer)\",\n",
    "    CONFIG['COL_ITEM']:\"product_id\",\n",
    "}\n",
    "\n",
    "PATH_TO_RAW_MEDIA_FILE = r\"C:\\Users\\tanch\\Documents\\NTU\\NTU Year 4\\FYP - GNN\\data\\shopee-20221117T041452Z-001\\shopee\\mass_update_media_info_120171733_20230224232836.xlsx\"\n",
    "PATH_TO_RAW_TRANSACTIONS_FOLDER = r\"C:\\Users\\tanch\\Documents\\NTU\\NTU Year 4\\FYP - GNN\\data\\shopee-20221117T041452Z-001\\shopee\""
   ]
  },
  {
   "cell_type": "markdown",
   "id": "018098cf-6ec1-44b2-9483-2707af24407c",
   "metadata": {},
   "source": [
    "### model training config"
   ]
  },
  {
   "cell_type": "code",
   "execution_count": 5,
   "id": "6f8604f6-0102-4825-8a5c-1025d36d6e66",
   "metadata": {},
   "outputs": [],
   "source": [
    "MIN_UNIQUE_PURCHASES = 2\n",
    "SPLIT_RATIO = 0.5\n",
    "SEED = 0 \n",
    "TOP_K = 10\n",
    "BATCH_SIZE = 1024\n",
    "MODEL_DIR = r\"C:\\Users\\tanch\\Desktop\\Bot.World\\Bot.World\\src\\main\\api\\models\\arietes-sar\"\n",
    "MODEL_TRAINING_DATA_DIR = r\"C:\\Users\\tanch\\Desktop\\Bot.World\\Bot.World\\src\\dev\\data\\recommendation model training\\arietes\""
   ]
  },
  {
   "cell_type": "markdown",
   "id": "9e9d7290-97b6-4bc5-b6d5-5cbf5978ca8f",
   "metadata": {},
   "source": [
    "## Load data and model"
   ]
  },
  {
   "cell_type": "code",
   "execution_count": 6,
   "id": "949986f1-488f-4e6e-9e34-ec39dcd4355e",
   "metadata": {},
   "outputs": [],
   "source": [
    "train = pd.read_pickle(os.path.join(MODEL_TRAINING_DATA_DIR, \"train.pkl\"))\n",
    "test = pd.read_pickle(os.path.join(MODEL_TRAINING_DATA_DIR, \"test.pkl\"))"
   ]
  },
  {
   "cell_type": "code",
   "execution_count": 7,
   "id": "00dbeea3-52e6-414f-9cbe-0d089e5a35ff",
   "metadata": {},
   "outputs": [],
   "source": [
    "model = load_sar_model(CONFIG)"
   ]
  },
  {
   "cell_type": "markdown",
   "id": "42d6d757-d9d9-41e0-9737-e3c494e59b31",
   "metadata": {},
   "source": [
    "## predict by popularity"
   ]
  },
  {
   "cell_type": "code",
   "execution_count": 8,
   "id": "f95fbb3d-aca1-4ed5-935b-6b0879d38a8c",
   "metadata": {},
   "outputs": [
    {
     "data": {
      "text/html": [
       "<div>\n",
       "<style scoped>\n",
       "    .dataframe tbody tr th:only-of-type {\n",
       "        vertical-align: middle;\n",
       "    }\n",
       "\n",
       "    .dataframe tbody tr th {\n",
       "        vertical-align: top;\n",
       "    }\n",
       "\n",
       "    .dataframe thead th {\n",
       "        text-align: right;\n",
       "    }\n",
       "</style>\n",
       "<table border=\"1\" class=\"dataframe\">\n",
       "  <thead>\n",
       "    <tr style=\"text-align: right;\">\n",
       "      <th></th>\n",
       "      <th>item_id</th>\n",
       "      <th>prediction</th>\n",
       "    </tr>\n",
       "  </thead>\n",
       "  <tbody>\n",
       "    <tr>\n",
       "      <th>0</th>\n",
       "      <td>3333330067</td>\n",
       "      <td>785</td>\n",
       "    </tr>\n",
       "    <tr>\n",
       "      <th>1</th>\n",
       "      <td>20901098335</td>\n",
       "      <td>691</td>\n",
       "    </tr>\n",
       "    <tr>\n",
       "      <th>2</th>\n",
       "      <td>13671455179</td>\n",
       "      <td>556</td>\n",
       "    </tr>\n",
       "    <tr>\n",
       "      <th>3</th>\n",
       "      <td>15180905833</td>\n",
       "      <td>387</td>\n",
       "    </tr>\n",
       "    <tr>\n",
       "      <th>4</th>\n",
       "      <td>5834933106</td>\n",
       "      <td>317</td>\n",
       "    </tr>\n",
       "  </tbody>\n",
       "</table>\n",
       "</div>"
      ],
      "text/plain": [
       "       item_id  prediction\n",
       "0   3333330067         785\n",
       "1  20901098335         691\n",
       "2  13671455179         556\n",
       "3  15180905833         387\n",
       "4   5834933106         317"
      ]
     },
     "execution_count": 8,
     "metadata": {},
     "output_type": "execute_result"
    }
   ],
   "source": [
    "model.get_popularity_based_topk(top_k=CONFIG[\"SESSION_RECOMMENDATION_SIZE\"])"
   ]
  },
  {
   "cell_type": "code",
   "execution_count": 10,
   "id": "220e3a5a-b1f5-4e7a-a6f1-83fd7488a9e3",
   "metadata": {},
   "outputs": [
    {
     "data": {
      "text/plain": [
       "3333330067     785\n",
       "20901098335    691\n",
       "13671455179    556\n",
       "15180905833    387\n",
       "5834933106     317\n",
       "              ... \n",
       "4772763551       1\n",
       "21828301735      1\n",
       "22306741687      1\n",
       "18106970802      1\n",
       "21433429878      1\n",
       "Name: item_id, Length: 249, dtype: int64"
      ]
     },
     "execution_count": 10,
     "metadata": {},
     "output_type": "execute_result"
    }
   ],
   "source": [
    "train.item_id.value_counts()"
   ]
  },
  {
   "cell_type": "markdown",
   "id": "d31b3e9f-96f1-4f44-9abf-9c7277d746d1",
   "metadata": {},
   "source": [
    "## predict by user"
   ]
  },
  {
   "cell_type": "code",
   "execution_count": 12,
   "id": "6a1bb448-6e59-4870-b038-c275be77ab4d",
   "metadata": {},
   "outputs": [],
   "source": [
    "test_users = [\"bignphat\"]"
   ]
  },
  {
   "cell_type": "code",
   "execution_count": 13,
   "id": "9dd4c14c-9675-42bb-acea-59fdb515bb02",
   "metadata": {},
   "outputs": [
    {
     "data": {
      "text/html": [
       "<div>\n",
       "<style scoped>\n",
       "    .dataframe tbody tr th:only-of-type {\n",
       "        vertical-align: middle;\n",
       "    }\n",
       "\n",
       "    .dataframe tbody tr th {\n",
       "        vertical-align: top;\n",
       "    }\n",
       "\n",
       "    .dataframe thead th {\n",
       "        text-align: right;\n",
       "    }\n",
       "</style>\n",
       "<table border=\"1\" class=\"dataframe\">\n",
       "  <thead>\n",
       "    <tr style=\"text-align: right;\">\n",
       "      <th></th>\n",
       "      <th>user_id</th>\n",
       "      <th>item_id</th>\n",
       "      <th>prediction</th>\n",
       "    </tr>\n",
       "  </thead>\n",
       "  <tbody>\n",
       "    <tr>\n",
       "      <th>0</th>\n",
       "      <td>bignphat</td>\n",
       "      <td>16739500035</td>\n",
       "      <td>0.004016</td>\n",
       "    </tr>\n",
       "    <tr>\n",
       "      <th>1</th>\n",
       "      <td>bignphat</td>\n",
       "      <td>18107316966</td>\n",
       "      <td>0.000769</td>\n",
       "    </tr>\n",
       "    <tr>\n",
       "      <th>2</th>\n",
       "      <td>bignphat</td>\n",
       "      <td>18907250016</td>\n",
       "      <td>0.000600</td>\n",
       "    </tr>\n",
       "    <tr>\n",
       "      <th>3</th>\n",
       "      <td>bignphat</td>\n",
       "      <td>7936874543</td>\n",
       "      <td>0.000450</td>\n",
       "    </tr>\n",
       "    <tr>\n",
       "      <th>4</th>\n",
       "      <td>bignphat</td>\n",
       "      <td>12792701275</td>\n",
       "      <td>0.000309</td>\n",
       "    </tr>\n",
       "  </tbody>\n",
       "</table>\n",
       "</div>"
      ],
      "text/plain": [
       "    user_id      item_id  prediction\n",
       "0  bignphat  16739500035    0.004016\n",
       "1  bignphat  18107316966    0.000769\n",
       "2  bignphat  18907250016    0.000600\n",
       "3  bignphat   7936874543    0.000450\n",
       "4  bignphat  12792701275    0.000309"
      ]
     },
     "execution_count": 13,
     "metadata": {},
     "output_type": "execute_result"
    }
   ],
   "source": [
    "model.recommend_k_items(test = pd.DataFrame({CONFIG[\"COL_USER\"]:test_users}), \n",
    "                                              top_k=CONFIG[\"SESSION_RECOMMENDATION_SIZE\"], \n",
    "                                              remove_seen=True)"
   ]
  },
  {
   "cell_type": "markdown",
   "id": "91bb5002-3420-495f-9fab-86b2412c2bbe",
   "metadata": {},
   "source": [
    "## predict by items"
   ]
  },
  {
   "cell_type": "code",
   "execution_count": 18,
   "id": "2334dc48-3879-4092-aa43-4b956876282f",
   "metadata": {},
   "outputs": [],
   "source": [
    "test_items = [\"13950585519\"]"
   ]
  },
  {
   "cell_type": "code",
   "execution_count": 20,
   "id": "b4136acb-a8e3-4bb1-a4c2-09815e0a8ce3",
   "metadata": {},
   "outputs": [
    {
     "data": {
      "text/html": [
       "<div>\n",
       "<style scoped>\n",
       "    .dataframe tbody tr th:only-of-type {\n",
       "        vertical-align: middle;\n",
       "    }\n",
       "\n",
       "    .dataframe tbody tr th {\n",
       "        vertical-align: top;\n",
       "    }\n",
       "\n",
       "    .dataframe thead th {\n",
       "        text-align: right;\n",
       "    }\n",
       "</style>\n",
       "<table border=\"1\" class=\"dataframe\">\n",
       "  <thead>\n",
       "    <tr style=\"text-align: right;\">\n",
       "      <th></th>\n",
       "      <th>user_id</th>\n",
       "      <th>item_id</th>\n",
       "      <th>prediction</th>\n",
       "    </tr>\n",
       "  </thead>\n",
       "  <tbody>\n",
       "    <tr>\n",
       "      <th>0</th>\n",
       "      <td>0</td>\n",
       "      <td>18414274019</td>\n",
       "      <td>0.0</td>\n",
       "    </tr>\n",
       "    <tr>\n",
       "      <th>1</th>\n",
       "      <td>0</td>\n",
       "      <td>21433429878</td>\n",
       "      <td>0.0</td>\n",
       "    </tr>\n",
       "  </tbody>\n",
       "</table>\n",
       "</div>"
      ],
      "text/plain": [
       "   user_id      item_id  prediction\n",
       "0        0  18414274019         0.0\n",
       "1        0  21433429878         0.0"
      ]
     },
     "execution_count": 20,
     "metadata": {},
     "output_type": "execute_result"
    }
   ],
   "source": [
    "model.get_item_based_topk(items = pd.DataFrame({CONFIG[\"COL_ITEM\"]:test_items}), \n",
    "                                                top_k=CONFIG[\"SESSION_RECOMMENDATION_SIZE\"])"
   ]
  },
  {
   "cell_type": "markdown",
   "id": "04f6c1d9-ec78-4235-91f9-ee63feb91518",
   "metadata": {},
   "source": [
    "## hyrbid - popularity and item"
   ]
  },
  {
   "cell_type": "code",
   "execution_count": 27,
   "id": "618c2c3b-74a1-4b31-a45b-655c3186e7f9",
   "metadata": {},
   "outputs": [],
   "source": [
    "test_items = [\"13950585519\"]"
   ]
  },
  {
   "cell_type": "code",
   "execution_count": 34,
   "id": "617c9fa5-0172-467c-b3e6-2e79fa164159",
   "metadata": {},
   "outputs": [
    {
     "data": {
      "text/html": [
       "<div>\n",
       "<style scoped>\n",
       "    .dataframe tbody tr th:only-of-type {\n",
       "        vertical-align: middle;\n",
       "    }\n",
       "\n",
       "    .dataframe tbody tr th {\n",
       "        vertical-align: top;\n",
       "    }\n",
       "\n",
       "    .dataframe thead th {\n",
       "        text-align: right;\n",
       "    }\n",
       "</style>\n",
       "<table border=\"1\" class=\"dataframe\">\n",
       "  <thead>\n",
       "    <tr style=\"text-align: right;\">\n",
       "      <th></th>\n",
       "      <th>item_id</th>\n",
       "      <th>prediction</th>\n",
       "    </tr>\n",
       "  </thead>\n",
       "  <tbody>\n",
       "    <tr>\n",
       "      <th>0</th>\n",
       "      <td>3333330067</td>\n",
       "      <td>785</td>\n",
       "    </tr>\n",
       "    <tr>\n",
       "      <th>1</th>\n",
       "      <td>20901098335</td>\n",
       "      <td>691</td>\n",
       "    </tr>\n",
       "    <tr>\n",
       "      <th>2</th>\n",
       "      <td>13671455179</td>\n",
       "      <td>556</td>\n",
       "    </tr>\n",
       "  </tbody>\n",
       "</table>\n",
       "</div>"
      ],
      "text/plain": [
       "       item_id  prediction\n",
       "0   3333330067         785\n",
       "1  20901098335         691\n",
       "2  13671455179         556"
      ]
     },
     "execution_count": 34,
     "metadata": {},
     "output_type": "execute_result"
    }
   ],
   "source": [
    "model.get_popularity_based_topk(top_k=ceil(CONFIG[\"SESSION_RECOMMENDATION_SIZE\"]/2))\n"
   ]
  },
  {
   "cell_type": "code",
   "execution_count": null,
   "id": "047ec35f-14ea-4c79-9aeb-cd6363844d2d",
   "metadata": {},
   "outputs": [
    {
     "data": {
      "text/html": [
       "<div>\n",
       "<style scoped>\n",
       "    .dataframe tbody tr th:only-of-type {\n",
       "        vertical-align: middle;\n",
       "    }\n",
       "\n",
       "    .dataframe tbody tr th {\n",
       "        vertical-align: top;\n",
       "    }\n",
       "\n",
       "    .dataframe thead th {\n",
       "        text-align: right;\n",
       "    }\n",
       "</style>\n",
       "<table border=\"1\" class=\"dataframe\">\n",
       "  <thead>\n",
       "    <tr style=\"text-align: right;\">\n",
       "      <th></th>\n",
       "      <th>user_id</th>\n",
       "      <th>item_id</th>\n",
       "      <th>prediction</th>\n",
       "    </tr>\n",
       "  </thead>\n",
       "  <tbody>\n",
       "    <tr>\n",
       "      <th>0</th>\n",
       "      <td>0</td>\n",
       "      <td>18414274019</td>\n",
       "      <td>0.0</td>\n",
       "    </tr>\n",
       "    <tr>\n",
       "      <th>1</th>\n",
       "      <td>0</td>\n",
       "      <td>21433429878</td>\n",
       "      <td>0.0</td>\n",
       "    </tr>\n",
       "  </tbody>\n",
       "</table>\n",
       "</div>"
      ],
      "text/plain": [
       "   user_id      item_id  prediction\n",
       "0        0  18414274019         0.0\n",
       "1        0  21433429878         0.0"
      ]
     },
     "execution_count": 30,
     "metadata": {},
     "output_type": "execute_result"
    }
   ],
   "source": [
    "model.get_item_based_topk(items = pd.DataFrame({CONFIG[\"COL_ITEM\"]:test_items}), \n",
    "                                                top_k=CONFIG[\"SESSION_RECOMMENDATION_SIZE\"]//2)"
   ]
  },
  {
   "cell_type": "markdown",
   "id": "2a9d2bbc-11a9-4381-b220-ca28b8869c96",
   "metadata": {},
   "source": [
    "## hybrid - popularity and user"
   ]
  },
  {
   "cell_type": "code",
   "execution_count": null,
   "id": "aa00609d-40d7-4de4-ad14-1ae944a0e771",
   "metadata": {},
   "outputs": [],
   "source": [
    "test_users = [\"bignphat\"]"
   ]
  },
  {
   "cell_type": "code",
   "execution_count": null,
   "id": "359420aa-fc2e-4637-a322-49579b0f29ba",
   "metadata": {},
   "outputs": [
    {
     "data": {
      "text/html": [
       "<div>\n",
       "<style scoped>\n",
       "    .dataframe tbody tr th:only-of-type {\n",
       "        vertical-align: middle;\n",
       "    }\n",
       "\n",
       "    .dataframe tbody tr th {\n",
       "        vertical-align: top;\n",
       "    }\n",
       "\n",
       "    .dataframe thead th {\n",
       "        text-align: right;\n",
       "    }\n",
       "</style>\n",
       "<table border=\"1\" class=\"dataframe\">\n",
       "  <thead>\n",
       "    <tr style=\"text-align: right;\">\n",
       "      <th></th>\n",
       "      <th>item_id</th>\n",
       "      <th>prediction</th>\n",
       "    </tr>\n",
       "  </thead>\n",
       "  <tbody>\n",
       "    <tr>\n",
       "      <th>0</th>\n",
       "      <td>3333330067</td>\n",
       "      <td>785</td>\n",
       "    </tr>\n",
       "    <tr>\n",
       "      <th>1</th>\n",
       "      <td>20901098335</td>\n",
       "      <td>691</td>\n",
       "    </tr>\n",
       "    <tr>\n",
       "      <th>2</th>\n",
       "      <td>13671455179</td>\n",
       "      <td>556</td>\n",
       "    </tr>\n",
       "  </tbody>\n",
       "</table>\n",
       "</div>"
      ],
      "text/plain": [
       "       item_id  prediction\n",
       "0   3333330067         785\n",
       "1  20901098335         691\n",
       "2  13671455179         556"
      ]
     },
     "execution_count": 36,
     "metadata": {},
     "output_type": "execute_result"
    }
   ],
   "source": [
    "model.get_popularity_based_topk(top_k=ceil(CONFIG[\"SESSION_RECOMMENDATION_SIZE\"]/2))"
   ]
  },
  {
   "cell_type": "code",
   "execution_count": null,
   "id": "737f4e3d-6647-47e6-9320-d563d7db117e",
   "metadata": {},
   "outputs": [
    {
     "data": {
      "text/html": [
       "<div>\n",
       "<style scoped>\n",
       "    .dataframe tbody tr th:only-of-type {\n",
       "        vertical-align: middle;\n",
       "    }\n",
       "\n",
       "    .dataframe tbody tr th {\n",
       "        vertical-align: top;\n",
       "    }\n",
       "\n",
       "    .dataframe thead th {\n",
       "        text-align: right;\n",
       "    }\n",
       "</style>\n",
       "<table border=\"1\" class=\"dataframe\">\n",
       "  <thead>\n",
       "    <tr style=\"text-align: right;\">\n",
       "      <th></th>\n",
       "      <th>user_id</th>\n",
       "      <th>item_id</th>\n",
       "      <th>prediction</th>\n",
       "    </tr>\n",
       "  </thead>\n",
       "  <tbody>\n",
       "    <tr>\n",
       "      <th>0</th>\n",
       "      <td>bignphat</td>\n",
       "      <td>16739500035</td>\n",
       "      <td>0.004016</td>\n",
       "    </tr>\n",
       "    <tr>\n",
       "      <th>1</th>\n",
       "      <td>bignphat</td>\n",
       "      <td>18107316966</td>\n",
       "      <td>0.000769</td>\n",
       "    </tr>\n",
       "  </tbody>\n",
       "</table>\n",
       "</div>"
      ],
      "text/plain": [
       "    user_id      item_id  prediction\n",
       "0  bignphat  16739500035    0.004016\n",
       "1  bignphat  18107316966    0.000769"
      ]
     },
     "execution_count": 40,
     "metadata": {},
     "output_type": "execute_result"
    }
   ],
   "source": [
    "model.recommend_k_items(test = pd.DataFrame({CONFIG[\"COL_USER\"]:test_users}), \n",
    "                        top_k=CONFIG[\"SESSION_RECOMMENDATION_SIZE\"]//2,\n",
    "                       remove_seen = True)"
   ]
  },
  {
   "cell_type": "code",
   "execution_count": null,
   "id": "6b0cf7dd-b511-41fc-a68e-9e775330ec9b",
   "metadata": {},
   "outputs": [],
   "source": []
  },
  {
   "cell_type": "code",
   "execution_count": null,
   "id": "c52bf9ae-8412-4241-ba80-678273e03b34",
   "metadata": {},
   "outputs": [],
   "source": []
  },
  {
   "cell_type": "code",
   "execution_count": 41,
   "id": "4470f372-fd8b-46b7-af7c-5fc208dd8eb0",
   "metadata": {},
   "outputs": [],
   "source": [
    "from collections import deque\n"
   ]
  },
  {
   "cell_type": "code",
   "execution_count": 42,
   "id": "81f72691-730e-492c-842b-bc4385b6e2bd",
   "metadata": {},
   "outputs": [],
   "source": [
    "q = deque([1,2,3])"
   ]
  },
  {
   "cell_type": "code",
   "execution_count": 57,
   "id": "b436bc7a-0103-4dca-ab9f-039f633425d8",
   "metadata": {},
   "outputs": [
    {
     "data": {
      "text/plain": [
       "IndexError('wcqasd')"
      ]
     },
     "execution_count": 57,
     "metadata": {},
     "output_type": "execute_result"
    }
   ],
   "source": [
    "IndexError(\"wcqasd\")"
   ]
  },
  {
   "cell_type": "code",
   "execution_count": 60,
   "id": "4ce56643-f845-439a-a45d-6c526c0037b0",
   "metadata": {},
   "outputs": [
    {
     "ename": "IndexError",
     "evalue": "fda",
     "output_type": "error",
     "traceback": [
      "\u001b[1;31m---------------------------------------------------------------------------\u001b[0m",
      "\u001b[1;31mIndexError\u001b[0m                                Traceback (most recent call last)",
      "Cell \u001b[1;32mIn [60], line 2\u001b[0m\n\u001b[0;32m      1\u001b[0m \u001b[38;5;28;01mtry\u001b[39;00m:\n\u001b[1;32m----> 2\u001b[0m     item \u001b[38;5;241m=\u001b[39m \u001b[43mq\u001b[49m\u001b[38;5;241;43m.\u001b[39;49m\u001b[43mpopleft\u001b[49m\u001b[43m(\u001b[49m\u001b[43m)\u001b[49m\n\u001b[0;32m      3\u001b[0m \u001b[38;5;28;01mexcept\u001b[39;00m \u001b[38;5;167;01mIndexError\u001b[39;00m:\n",
      "\u001b[1;31mIndexError\u001b[0m: pop from an empty deque",
      "\nDuring handling of the above exception, another exception occurred:\n",
      "\u001b[1;31mIndexError\u001b[0m                                Traceback (most recent call last)",
      "Cell \u001b[1;32mIn [60], line 4\u001b[0m\n\u001b[0;32m      2\u001b[0m     item \u001b[38;5;241m=\u001b[39m q\u001b[38;5;241m.\u001b[39mpopleft()\n\u001b[0;32m      3\u001b[0m \u001b[38;5;28;01mexcept\u001b[39;00m \u001b[38;5;167;01mIndexError\u001b[39;00m:\n\u001b[1;32m----> 4\u001b[0m     \u001b[38;5;28;01mraise\u001b[39;00m \u001b[38;5;167;01mIndexError\u001b[39;00m(\u001b[38;5;124m\"\u001b[39m\u001b[38;5;124mfda\u001b[39m\u001b[38;5;124m\"\u001b[39m)\n",
      "\u001b[1;31mIndexError\u001b[0m: fda"
     ]
    }
   ],
   "source": [
    "try:\n",
    "    item = q.popleft()\n",
    "except IndexError:\n",
    "    raise IndexError(\"fda\")\n",
    "    "
   ]
  },
  {
   "cell_type": "code",
   "execution_count": 64,
   "id": "09e42fca-eda2-47f1-b2a7-3e5242649386",
   "metadata": {},
   "outputs": [],
   "source": [
    "chat_id = \"123\"\n",
    "by = \"popularity\"\n",
    "user_id = None\n",
    "item_id = None"
   ]
  },
  {
   "cell_type": "code",
   "execution_count": 65,
   "id": "17d170a9-6a40-4e93-9fe7-f98bc5b13af7",
   "metadata": {},
   "outputs": [
    {
     "data": {
      "text/plain": [
       "'123_popularity_None_None'"
      ]
     },
     "execution_count": 65,
     "metadata": {},
     "output_type": "execute_result"
    }
   ],
   "source": [
    "f\"{chat_id}_{by}_{user_id}_{item_id}\""
   ]
  },
  {
   "cell_type": "code",
   "execution_count": null,
   "id": "9e841efa-262c-47e6-b838-d226eaa04677",
   "metadata": {},
   "outputs": [],
   "source": []
  }
 ],
 "metadata": {
  "kernelspec": {
   "display_name": "Python 3 (ipykernel)",
   "language": "python",
   "name": "python3"
  },
  "language_info": {
   "codemirror_mode": {
    "name": "ipython",
    "version": 3
   },
   "file_extension": ".py",
   "mimetype": "text/x-python",
   "name": "python",
   "nbconvert_exporter": "python",
   "pygments_lexer": "ipython3",
   "version": "3.9.15"
  },
  "toc-showcode": false
 },
 "nbformat": 4,
 "nbformat_minor": 5
}
