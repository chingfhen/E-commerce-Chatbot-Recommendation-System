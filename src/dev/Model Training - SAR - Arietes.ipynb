{
 "cells": [
  {
   "cell_type": "markdown",
   "id": "9cb5af0a-8d4b-4ab5-a98e-3895d981526a",
   "metadata": {},
   "source": [
    "# ABOUT:"
   ]
  },
  {
   "cell_type": "code",
   "execution_count": 1,
   "id": "e8eaeb77-3d83-4a48-81ed-4d9fc428ac01",
   "metadata": {},
   "outputs": [],
   "source": [
    "from recommenders.models.sar import SAR\n",
    "from recommenders.datasets.python_splitters import python_stratified_split\n",
    "from recommenders.utils.constants import SEED as DEFAULT_SEED\n",
    "from recommenders.evaluation.python_evaluation import precision_at_k\n",
    "from recommenders.models.deeprec.DataModel.ImplicitCF import ImplicitCF\n",
    "from recommenders.models.deeprec.deeprec_utils import prepare_hparams\n",
    "from recommenders.models.deeprec.models.graphrec.lightgcn import LightGCN\n",
    "from recommenders.utils.timer import Timer\n",
    "\n",
    "import pandas as pd\n",
    "import os\n",
    "import gzip\n",
    "import json\n",
    "import pandas as pd\n",
    "import seaborn as sb\n",
    "from scipy.sparse import save_npz, load_npz\n",
    "from numpy import save, load \n",
    "import json\n",
    "import numpy as np\n",
    "import random\n",
    "import pickle\n",
    "\n",
    "import sys\n",
    "sys.path.append(r'C:\\Users\\tanch\\Desktop\\Bot.World\\Bot.World\\src\\main\\api\\fastapi')\n",
    "sys.path.append(r'C:\\Users\\tanch\\Desktop\\Bot.World\\Bot.World\\src\\main\\api')\n",
    "from model import load_sar_model\n",
    "from bot_world_config import *"
   ]
  },
  {
   "cell_type": "markdown",
   "id": "048317e0-6d76-4741-9a93-7c1f28926e19",
   "metadata": {},
   "source": [
    "### bot_world_config"
   ]
  },
  {
   "cell_type": "code",
   "execution_count": 2,
   "id": "a8e70318-38d4-4e0d-8e54-78a23a6e715e",
   "metadata": {},
   "outputs": [],
   "source": [
    "CONFIG = {}\n",
    "CONFIG.update(load_database_config())\n",
    "CONFIG.update(load_model_config())\n",
    "CONFIG.update(load_session_config())\n",
    "CONFIG.update(load_seller_config())\n",
    "CONFIG.update(load_sar_config())\n",
    "CONFIG.update(load_telegram_bot_config())"
   ]
  },
  {
   "cell_type": "code",
   "execution_count": 3,
   "id": "52fe1fce-d58f-4cd7-9a5c-3ef0cb6cb8d1",
   "metadata": {},
   "outputs": [
    {
     "data": {
      "text/plain": [
       "{'DATABASE_USER': 'ching',\n",
       " 'DATABASE_PASSWORD': '978775!Rtj01',\n",
       " 'DATABASE_HOST': 'aws-bot-world-mysql.c6ecc5e9b7no.ap-southeast-1.rds.amazonaws.com',\n",
       " 'DATABASE_NAME': 'Arietes_Care',\n",
       " 'PRODUCT_INFO_TABLE_NAME': 'product_info',\n",
       " 'USE_RDS': False,\n",
       " 'DATABASE_PATH_TANCH': 'C:\\\\Users\\\\tanch\\\\Desktop\\\\Bot.World\\\\Bot.World\\\\src\\\\main\\\\database\\\\arietes\\\\arietes.db',\n",
       " 'DATABASE_PATH_DOCKER': '/database/arietes/arietes.db',\n",
       " 'MODEL_TYPE': 'sar',\n",
       " 'TOP_K': 10,\n",
       " 'MODEL_SUPPORTED_TYPES': ['sar'],\n",
       " 'SESSION_RECOMMENDATION_SIZE': 5,\n",
       " 'SELLER_ID': '120171733',\n",
       " 'SHOP_NAME': 'Arietes Care',\n",
       " 'SHOP_URL': 'https://shopee.sg/arietes.acc',\n",
       " 'COL_USER': 'user_id',\n",
       " 'COL_ITEM': 'item_id',\n",
       " 'COL_RATING': 'rating',\n",
       " 'SIMILARITY_TYPE': 'jaccard',\n",
       " 'MODEL_DIR': '/api/models/arietes-sar',\n",
       " 'BOT_TOKEN': '6152761301:AAE-VFcRJn7r40lbNOEC5QX5rZCY4DjGULA'}"
      ]
     },
     "execution_count": 3,
     "metadata": {},
     "output_type": "execute_result"
    }
   ],
   "source": [
    "CONFIG"
   ]
  },
  {
   "cell_type": "markdown",
   "id": "e7860e10-1cdd-4373-8f08-18f2edc137c3",
   "metadata": {
    "tags": []
   },
   "source": [
    "### config"
   ]
  },
  {
   "cell_type": "code",
   "execution_count": 4,
   "id": "6dd7016b-d785-4dbb-8926-badd3ab15ea3",
   "metadata": {},
   "outputs": [],
   "source": [
    "KEYWORD_SHOPEE_RAW_TRANSACTION_FILE = \"Order.all\"\n",
    "NON_KEYWORD_SHOPEE_RAW_TRANSACTION_FILE = \"$\"\n",
    "DESIRED_COLS_TRANSACTION_FILE = [\"Order ID\", \"Original Price\", \"Username (Buyer)\", \"Product Name\", \"product_id\"]\n",
    "TRANSACTION_ID_COL = [\"Order ID\"]\n",
    "# USER_ID_COL = \"user_id\"\n",
    "# ITEM_ID_COL = \"item_id\"\n",
    "# RATING_COL = \"rating\"\n",
    "TRANSACTION_TO_INTERACTION_MAPPING = {\n",
    "    CONFIG['COL_USER']:\"Username (Buyer)\",\n",
    "    CONFIG['COL_ITEM']:\"product_id\",\n",
    "}\n",
    "\n",
    "PATH_TO_RAW_MEDIA_FILE = r\"C:\\Users\\tanch\\Documents\\NTU\\NTU Year 4\\FYP - GNN\\data\\shopee-20221117T041452Z-001\\shopee\\mass_update_media_info_120171733_20230224232836.xlsx\"\n",
    "PATH_TO_RAW_TRANSACTIONS_FOLDER = r\"C:\\Users\\tanch\\Documents\\NTU\\NTU Year 4\\FYP - GNN\\data\\shopee-20221117T041452Z-001\\shopee\""
   ]
  },
  {
   "cell_type": "markdown",
   "id": "018098cf-6ec1-44b2-9483-2707af24407c",
   "metadata": {},
   "source": [
    "### model training config"
   ]
  },
  {
   "cell_type": "code",
   "execution_count": 5,
   "id": "6f8604f6-0102-4825-8a5c-1025d36d6e66",
   "metadata": {},
   "outputs": [],
   "source": [
    "MIN_UNIQUE_PURCHASES = 2\n",
    "SPLIT_RATIO = 0.5\n",
    "SEED = 0 \n",
    "TOP_K = 10\n",
    "BATCH_SIZE = 1024\n",
    "MODEL_DIR = r\"C:\\Users\\tanch\\Desktop\\Bot.World\\Bot.World\\src\\main\\api\\models\\arietes-sar\"\n",
    "MODEL_TRAINING_DATA_DIR = r\"C:\\Users\\tanch\\Desktop\\Bot.World\\Bot.World\\src\\dev\\data\\recommendation model training\\arietes\""
   ]
  },
  {
   "cell_type": "markdown",
   "id": "f9d7de77-eb31-4f5c-9a7b-b6b7f7583b46",
   "metadata": {},
   "source": [
    "### Utils"
   ]
  },
  {
   "cell_type": "code",
   "execution_count": 6,
   "id": "11c84eec-23b2-4e49-84fc-58cb07c4022a",
   "metadata": {},
   "outputs": [],
   "source": [
    "\"\"\"\n",
    "files containing the transactions are identified by keywords\n",
    "IMPORTANT NOTE: transaction files SHOULD NOT be duplicated\n",
    "\"\"\"\n",
    "def get_transaction_filenames(folder_path:str, keyword:str, non_keyword:str):\n",
    "    return [filename for filename in os.listdir(folder_path) if keyword in filename and non_keyword not in filename]\n",
    "\"\"\"\n",
    "Combine all transaction data into dataframe, with no processing \n",
    "\"\"\"\n",
    "def get_transaction_data(folder_path:str, filenames:list):\n",
    "    output = pd.DataFrame()\n",
    "    for filename in filenames:\n",
    "        data_path = os.path.join(folder_path,filename)\n",
    "        data = pd.read_excel(data_path)\n",
    "        output = pd.concat([output, data] , axis = 0)\n",
    "    return output.reset_index(drop = True)\n",
    "\"\"\"\n",
    "Clean transaction data - very minimal cleaning\n",
    "\"\"\"\n",
    "def clean_transaction_data(dataframe, desired_columns):\n",
    "    output = dataframe.copy()\n",
    "    output = output[desired_columns]\n",
    "    # # INTERACTIONS ARE UNIQUE BY COMPOSITE/MULTIPLE COLUMNS\n",
    "    # output = output.drop_duplicates(subset = id_cols)\n",
    "    return output\n",
    "\"\"\"\n",
    "Create a id mapping for a column\n",
    "\"\"\"\n",
    "def generate_ids(pandas_series):\n",
    "    mapping = dict(enumerate(pandas_series.unique().tolist()))\n",
    "    reverse_mapping = {v:k for k,v in mapping.items()}\n",
    "    return reverse_mapping\n",
    "\"\"\"\n",
    "Transform into interaction data that is the input to personalized recommendation models\n",
    "notes:\n",
    "take only unique user_item interactions\n",
    "\"\"\"\n",
    "def transform_transaction_to_interaction_data(transaction_dataframe, user_id_col, item_id_col, transaction_interaction_mapping, rating_col, generate_ids = False):\n",
    "    output = pd.DataFrame()\n",
    "    user_id_mapping, item_id_mapping = None, None\n",
    "    if generate_ids:\n",
    "        user_id_mapping = generate_ids(transaction_dataframe[transaction_interaction_mapping[user_id_col]])\n",
    "        item_id_mapping = generate_ids(transaction_dataframe[transaction_interaction_mapping[item_id_col]])\n",
    "        output[user_id_col] = transaction_dataframe[transaction_interaction_mapping[user_id_col]].map(user_id_mapping)\n",
    "        output[item_id_col] = transaction_dataframe[transaction_interaction_mapping[item_id_col]].map(item_id_mapping)\n",
    "    else: \n",
    "        output[user_id_col] = transaction_dataframe[transaction_interaction_mapping[user_id_col]]\n",
    "        output[item_id_col] = transaction_dataframe[transaction_interaction_mapping[item_id_col]]\n",
    "    # user-item interactions are unique\n",
    "    output = pd.DataFrame(output.groupby(by = [user_id_col, item_id_col]).size(), columns = [rating_col])\n",
    "    output = output.reset_index()\n",
    "    return output, user_id_mapping, item_id_mapping\n",
    "\"\"\"\n",
    "Make interaction data more suitable for recommedation model \n",
    "notes:\n",
    "all interactions have the same weight i.e. rating 1\n",
    "\"\"\"\n",
    "def clean_interaction_data(config, dataframe, equalize_interaction_weights = True):\n",
    "    output = dataframe.copy()\n",
    "    # all interaction weights are 1\n",
    "    if equalize_interaction_weights:\n",
    "        dataframe[config['COL_RATING']] = 1\n",
    "    # want model inputs to be string\n",
    "    output[config['COL_ITEM']] = output[config['COL_ITEM']].astype(str)\n",
    "    return output\n",
    "\"\"\"\n",
    "Generate training and testing sets\n",
    "notes:\n",
    "Training set contains all user-item interactions that NOT IN test set\n",
    "Test set contains only user-item interactions from users that had at least 2 interactions from the dataset\n",
    "    i.e. users with only 1 interaction from the dataset will not be tested (because we need at least 2 to train and test)\n",
    "\"\"\"\n",
    "def train_test_split(config, dataframe):\n",
    "    # take users with at least \"min_purchases\" number of purchases\n",
    "    warm_interactions = keep_warm(dataframe, config['COL_USER'], MIN_UNIQUE_PURCHASES)\n",
    "    # generate test set containing users with at least \"min_purchases\" number of purchases\n",
    "    _, test = python_stratified_split(warm_interactions, ratio=SPLIT_RATIO,\n",
    "                                      min_rating=1, filter_by='user', \n",
    "                                      col_user=config['COL_USER'], col_item=config['COL_ITEM'], \n",
    "                                      seed=SEED)\n",
    "    # generate train set, which are interactions not found in test set\n",
    "    train = dataframe.merge(test, on=[config['COL_USER'], config['COL_ITEM']], how='left', indicator=True)\n",
    "    train = train[train['_merge'] == 'left_only'][[config['COL_USER'], config['COL_ITEM']]]\n",
    "    # risky \n",
    "    train[config['COL_RATING']] = 1\n",
    "    return train, test\n",
    "\n",
    "\"\"\"\n",
    "Warm users refer to users that have bought at least x number of items from the shop\n",
    "\"\"\"\n",
    "def keep_warm(dataframe, target_col, minimum_count):\n",
    "    output = dataframe.groupby(by = [target_col]).filter(lambda x : len(x)>=minimum_count)\n",
    "    return output.reset_index(drop = True)\n",
    "\n",
    "\n",
    "def show_dataset_stats(config, dataframe):\n",
    "    print(f\"\"\"\n",
    "        Total Interactions: {len(dataframe)}\n",
    "        Unique Users: {dataframe[config['COL_USER']].nunique()}\n",
    "        Unique Items: {dataframe[config['COL_ITEM']].nunique()}\n",
    "        \"\"\")\n",
    "    \n"
   ]
  },
  {
   "cell_type": "markdown",
   "id": "63650fa1-3836-42ad-afdc-93c72c636a03",
   "metadata": {},
   "source": [
    "### Get raw data\n",
    "- consists of transactional files (user item interactions) ad media files (image urls)"
   ]
  },
  {
   "cell_type": "code",
   "execution_count": 7,
   "id": "8e86d15e-5203-44f4-aa79-06c4a5cacea0",
   "metadata": {},
   "outputs": [],
   "source": [
    "def get_product_data():\n",
    "    data = pd.read_excel(PATH_TO_RAW_MEDIA_FILE\n",
    "                  ,sheet_name= \"Sheet2\", header = None, names = [\"product_id\", \"product_name\", \"categories\", \"image_url\"])\n",
    "    return data\n",
    "media_data = get_product_data()"
   ]
  },
  {
   "cell_type": "code",
   "execution_count": 8,
   "id": "44643053-3301-4db6-98b1-68e160c62dbd",
   "metadata": {},
   "outputs": [
    {
     "data": {
      "text/html": [
       "<div>\n",
       "<style scoped>\n",
       "    .dataframe tbody tr th:only-of-type {\n",
       "        vertical-align: middle;\n",
       "    }\n",
       "\n",
       "    .dataframe tbody tr th {\n",
       "        vertical-align: top;\n",
       "    }\n",
       "\n",
       "    .dataframe thead th {\n",
       "        text-align: right;\n",
       "    }\n",
       "</style>\n",
       "<table border=\"1\" class=\"dataframe\">\n",
       "  <thead>\n",
       "    <tr style=\"text-align: right;\">\n",
       "      <th></th>\n",
       "      <th>product_id</th>\n",
       "      <th>product_name</th>\n",
       "      <th>categories</th>\n",
       "      <th>image_url</th>\n",
       "    </tr>\n",
       "  </thead>\n",
       "  <tbody>\n",
       "    <tr>\n",
       "      <th>0</th>\n",
       "      <td>23826146098</td>\n",
       "      <td>Ultrasonic Aroma Humidifier Led light changing</td>\n",
       "      <td>101129 - Home &amp; Living/Home Fragrance &amp; Aromat...</td>\n",
       "      <td>https://cf.shopee.sg/file/sg-11134207-23020-9n...</td>\n",
       "    </tr>\n",
       "    <tr>\n",
       "      <th>1</th>\n",
       "      <td>23821255327</td>\n",
       "      <td>Heavy Duty Canvas Tote Bags Stitching Contrast...</td>\n",
       "      <td>100093 - Women Bags/Tote Bags</td>\n",
       "      <td>https://cf.shopee.sg/file/sg-11134207-23020-yu...</td>\n",
       "    </tr>\n",
       "    <tr>\n",
       "      <th>2</th>\n",
       "      <td>23821254972</td>\n",
       "      <td>Hot Products EMS Vibration RF V Shape Other Ho...</td>\n",
       "      <td>101661 - Beauty/Beauty Tools/Facial Care Tools...</td>\n",
       "      <td>https://cf.shopee.sg/file/sg-11134207-23020-k1...</td>\n",
       "    </tr>\n",
       "    <tr>\n",
       "      <th>3</th>\n",
       "      <td>23821143235</td>\n",
       "      <td>Wart Removal Cream Natural Herbal Skin Care Re...</td>\n",
       "      <td>100427 - Health/Medical Supplies/First Aid Sup...</td>\n",
       "      <td>https://cf.shopee.sg/file/sg-11134207-23020-1u...</td>\n",
       "    </tr>\n",
       "    <tr>\n",
       "      <th>4</th>\n",
       "      <td>23720393304</td>\n",
       "      <td>Cute Kids Bag Cartoon Schoolbag Shoulder Bag S...</td>\n",
       "      <td>101744 - Baby &amp; Kids Fashion/Baby &amp; Kids Acces...</td>\n",
       "      <td>https://cf.shopee.sg/file/sg-11134207-23010-t7...</td>\n",
       "    </tr>\n",
       "  </tbody>\n",
       "</table>\n",
       "</div>"
      ],
      "text/plain": [
       "    product_id                                       product_name  \\\n",
       "0  23826146098     Ultrasonic Aroma Humidifier Led light changing   \n",
       "1  23821255327  Heavy Duty Canvas Tote Bags Stitching Contrast...   \n",
       "2  23821254972  Hot Products EMS Vibration RF V Shape Other Ho...   \n",
       "3  23821143235  Wart Removal Cream Natural Herbal Skin Care Re...   \n",
       "4  23720393304  Cute Kids Bag Cartoon Schoolbag Shoulder Bag S...   \n",
       "\n",
       "                                          categories  \\\n",
       "0  101129 - Home & Living/Home Fragrance & Aromat...   \n",
       "1                      100093 - Women Bags/Tote Bags   \n",
       "2  101661 - Beauty/Beauty Tools/Facial Care Tools...   \n",
       "3  100427 - Health/Medical Supplies/First Aid Sup...   \n",
       "4  101744 - Baby & Kids Fashion/Baby & Kids Acces...   \n",
       "\n",
       "                                           image_url  \n",
       "0  https://cf.shopee.sg/file/sg-11134207-23020-9n...  \n",
       "1  https://cf.shopee.sg/file/sg-11134207-23020-yu...  \n",
       "2  https://cf.shopee.sg/file/sg-11134207-23020-k1...  \n",
       "3  https://cf.shopee.sg/file/sg-11134207-23020-1u...  \n",
       "4  https://cf.shopee.sg/file/sg-11134207-23010-t7...  "
      ]
     },
     "execution_count": 8,
     "metadata": {},
     "output_type": "execute_result"
    }
   ],
   "source": [
    "media_data.head()"
   ]
  },
  {
   "cell_type": "code",
   "execution_count": 9,
   "id": "d93da2d9-300a-4757-9a56-03c32d94f6b6",
   "metadata": {},
   "outputs": [],
   "source": [
    "# media_data.to_csv(os.path.join(PATH_TO_RAW_TRANSACTIONS_FOLDER, \"cleaned_transactions.csv\"), index = False)"
   ]
  },
  {
   "cell_type": "code",
   "execution_count": 10,
   "id": "d495d03c-d3b8-4fc2-8f57-cd23bdfcef60",
   "metadata": {},
   "outputs": [],
   "source": [
    "transaction_filenames = get_transaction_filenames(PATH_TO_RAW_TRANSACTIONS_FOLDER, KEYWORD_SHOPEE_RAW_TRANSACTION_FILE, NON_KEYWORD_SHOPEE_RAW_TRANSACTION_FILE)\n",
    "transaction_data = get_transaction_data(PATH_TO_RAW_TRANSACTIONS_FOLDER, transaction_filenames)"
   ]
  },
  {
   "cell_type": "code",
   "execution_count": 11,
   "id": "67046d4f-f4ab-4ba4-80e7-5183953105e4",
   "metadata": {},
   "outputs": [],
   "source": [
    "transaction_data = transaction_data.merge(media_data, left_on = \"Product Name\", right_on = \"product_name\", how = \"inner\")"
   ]
  },
  {
   "cell_type": "code",
   "execution_count": 20,
   "id": "0fe19a40-571f-4853-822d-82611c2719b0",
   "metadata": {},
   "outputs": [],
   "source": [
    "def long_tail_problem():\n",
    "    print(\"Num users with more than 1 purchase: \",sum(transaction_data[\"Username (Buyer)\"].value_counts()>1))\n",
    "    print(\"Num users with only 1 purchase: \", sum(transaction_data[\"Username (Buyer)\"].value_counts()==1))"
   ]
  },
  {
   "cell_type": "code",
   "execution_count": 21,
   "id": "5661b761-1ff4-4e95-848f-a0bc862ab003",
   "metadata": {},
   "outputs": [
    {
     "name": "stdout",
     "output_type": "stream",
     "text": [
      "Num users with more than 1 purchase:  1676\n",
      "Num users with only 1 purchase:  6132\n"
     ]
    }
   ],
   "source": [
    "long_tail_problem()"
   ]
  },
  {
   "cell_type": "code",
   "execution_count": 22,
   "id": "465ee76c-8c19-40e3-8c0b-a3e6092fcc36",
   "metadata": {},
   "outputs": [
    {
     "data": {
      "text/html": [
       "<div>\n",
       "<style scoped>\n",
       "    .dataframe tbody tr th:only-of-type {\n",
       "        vertical-align: middle;\n",
       "    }\n",
       "\n",
       "    .dataframe tbody tr th {\n",
       "        vertical-align: top;\n",
       "    }\n",
       "\n",
       "    .dataframe thead th {\n",
       "        text-align: right;\n",
       "    }\n",
       "</style>\n",
       "<table border=\"1\" class=\"dataframe\">\n",
       "  <thead>\n",
       "    <tr style=\"text-align: right;\">\n",
       "      <th></th>\n",
       "      <th>Order ID</th>\n",
       "      <th>Order Status</th>\n",
       "      <th>Cancel reason</th>\n",
       "      <th>Return / Refund Status</th>\n",
       "      <th>Tracking Number*</th>\n",
       "      <th>Shipping Option</th>\n",
       "      <th>Shipment Method</th>\n",
       "      <th>Estimated Ship Out Date</th>\n",
       "      <th>Ship Time</th>\n",
       "      <th>Order Creation Date</th>\n",
       "      <th>...</th>\n",
       "      <th>Province</th>\n",
       "      <th>Country</th>\n",
       "      <th>Zip Code</th>\n",
       "      <th>Remark from buyer</th>\n",
       "      <th>Order Complete Time</th>\n",
       "      <th>Note</th>\n",
       "      <th>product_id</th>\n",
       "      <th>product_name</th>\n",
       "      <th>categories</th>\n",
       "      <th>image_url</th>\n",
       "    </tr>\n",
       "  </thead>\n",
       "  <tbody>\n",
       "    <tr>\n",
       "      <th>0</th>\n",
       "      <td>210701QSRHFY5W</td>\n",
       "      <td>Completed</td>\n",
       "      <td>NaN</td>\n",
       "      <td>NaN</td>\n",
       "      <td>SJNT957750266</td>\n",
       "      <td>J&amp;T Express</td>\n",
       "      <td>pickup</td>\n",
       "      <td>2021-07-05 13:52</td>\n",
       "      <td>2021-07-02 16:45</td>\n",
       "      <td>2021-07-01 13:52</td>\n",
       "      <td>...</td>\n",
       "      <td>NaN</td>\n",
       "      <td>SG</td>\n",
       "      <td>734688</td>\n",
       "      <td>NaN</td>\n",
       "      <td>2021-07-03 20:34</td>\n",
       "      <td>NaN</td>\n",
       "      <td>8406662315</td>\n",
       "      <td>Hot Magnetic Back Support Brace Belt Lumbar Lo...</td>\n",
       "      <td>100432 - Health/Medical Supplies/Injury &amp; Disa...</td>\n",
       "      <td>https://cf.shopee.sg/file/333f8f876721b0dd1a11...</td>\n",
       "    </tr>\n",
       "    <tr>\n",
       "      <th>1</th>\n",
       "      <td>210708D2XTB5TJ</td>\n",
       "      <td>Completed</td>\n",
       "      <td>NaN</td>\n",
       "      <td>NaN</td>\n",
       "      <td>SJNT390072266</td>\n",
       "      <td>J&amp;T Express</td>\n",
       "      <td>pickup</td>\n",
       "      <td>2021-07-12 21:24</td>\n",
       "      <td>2021-07-09 18:42</td>\n",
       "      <td>2021-07-08 21:24</td>\n",
       "      <td>...</td>\n",
       "      <td>NaN</td>\n",
       "      <td>SG</td>\n",
       "      <td>459109</td>\n",
       "      <td>NaN</td>\n",
       "      <td>2021-07-16 08:08</td>\n",
       "      <td>NaN</td>\n",
       "      <td>8406662315</td>\n",
       "      <td>Hot Magnetic Back Support Brace Belt Lumbar Lo...</td>\n",
       "      <td>100432 - Health/Medical Supplies/Injury &amp; Disa...</td>\n",
       "      <td>https://cf.shopee.sg/file/333f8f876721b0dd1a11...</td>\n",
       "    </tr>\n",
       "    <tr>\n",
       "      <th>2</th>\n",
       "      <td>210725SHRE6FM4</td>\n",
       "      <td>Completed</td>\n",
       "      <td>NaN</td>\n",
       "      <td>NaN</td>\n",
       "      <td>SJNT345680452</td>\n",
       "      <td>J&amp;T Express</td>\n",
       "      <td>pickup</td>\n",
       "      <td>2021-07-27 10:08</td>\n",
       "      <td>2021-07-26 14:33</td>\n",
       "      <td>2021-07-25 10:07</td>\n",
       "      <td>...</td>\n",
       "      <td>NaN</td>\n",
       "      <td>SG</td>\n",
       "      <td>545084</td>\n",
       "      <td>NaN</td>\n",
       "      <td>2021-07-30 21:44</td>\n",
       "      <td>NaN</td>\n",
       "      <td>8406662315</td>\n",
       "      <td>Hot Magnetic Back Support Brace Belt Lumbar Lo...</td>\n",
       "      <td>100432 - Health/Medical Supplies/Injury &amp; Disa...</td>\n",
       "      <td>https://cf.shopee.sg/file/333f8f876721b0dd1a11...</td>\n",
       "    </tr>\n",
       "    <tr>\n",
       "      <th>3</th>\n",
       "      <td>211002RFG2874R</td>\n",
       "      <td>Completed</td>\n",
       "      <td>NaN</td>\n",
       "      <td>NaN</td>\n",
       "      <td>SJNT585561873</td>\n",
       "      <td>J&amp;T Express</td>\n",
       "      <td>pickup</td>\n",
       "      <td>2021-10-05 10:35</td>\n",
       "      <td>2021-10-02 13:39</td>\n",
       "      <td>2021-10-02 10:34</td>\n",
       "      <td>...</td>\n",
       "      <td>NaN</td>\n",
       "      <td>SG</td>\n",
       "      <td>208787</td>\n",
       "      <td>NaN</td>\n",
       "      <td>2021-10-04 12:37</td>\n",
       "      <td>NaN</td>\n",
       "      <td>8406662315</td>\n",
       "      <td>Hot Magnetic Back Support Brace Belt Lumbar Lo...</td>\n",
       "      <td>100432 - Health/Medical Supplies/Injury &amp; Disa...</td>\n",
       "      <td>https://cf.shopee.sg/file/333f8f876721b0dd1a11...</td>\n",
       "    </tr>\n",
       "    <tr>\n",
       "      <th>4</th>\n",
       "      <td>21100545WNFN2V</td>\n",
       "      <td>Cancelled</td>\n",
       "      <td>Cancelled by buyer. Reason: Others</td>\n",
       "      <td>NaN</td>\n",
       "      <td>NaN</td>\n",
       "      <td>J&amp;T Express</td>\n",
       "      <td>pickup</td>\n",
       "      <td>NaN</td>\n",
       "      <td>NaN</td>\n",
       "      <td>2021-10-05 22:36</td>\n",
       "      <td>...</td>\n",
       "      <td>NaN</td>\n",
       "      <td>SG</td>\n",
       "      <td>460106</td>\n",
       "      <td>NaN</td>\n",
       "      <td>NaN</td>\n",
       "      <td>NaN</td>\n",
       "      <td>8406662315</td>\n",
       "      <td>Hot Magnetic Back Support Brace Belt Lumbar Lo...</td>\n",
       "      <td>100432 - Health/Medical Supplies/Injury &amp; Disa...</td>\n",
       "      <td>https://cf.shopee.sg/file/333f8f876721b0dd1a11...</td>\n",
       "    </tr>\n",
       "  </tbody>\n",
       "</table>\n",
       "<p>5 rows × 60 columns</p>\n",
       "</div>"
      ],
      "text/plain": [
       "         Order ID Order Status                       Cancel reason  \\\n",
       "0  210701QSRHFY5W    Completed                                 NaN   \n",
       "1  210708D2XTB5TJ    Completed                                 NaN   \n",
       "2  210725SHRE6FM4    Completed                                 NaN   \n",
       "3  211002RFG2874R    Completed                                 NaN   \n",
       "4  21100545WNFN2V    Cancelled  Cancelled by buyer. Reason: Others   \n",
       "\n",
       "  Return / Refund Status Tracking Number* Shipping Option Shipment Method  \\\n",
       "0                    NaN    SJNT957750266     J&T Express          pickup   \n",
       "1                    NaN    SJNT390072266     J&T Express          pickup   \n",
       "2                    NaN    SJNT345680452     J&T Express          pickup   \n",
       "3                    NaN    SJNT585561873     J&T Express          pickup   \n",
       "4                    NaN              NaN     J&T Express          pickup   \n",
       "\n",
       "  Estimated Ship Out Date         Ship Time Order Creation Date  ... Province  \\\n",
       "0        2021-07-05 13:52  2021-07-02 16:45    2021-07-01 13:52  ...      NaN   \n",
       "1        2021-07-12 21:24  2021-07-09 18:42    2021-07-08 21:24  ...      NaN   \n",
       "2        2021-07-27 10:08  2021-07-26 14:33    2021-07-25 10:07  ...      NaN   \n",
       "3        2021-10-05 10:35  2021-10-02 13:39    2021-10-02 10:34  ...      NaN   \n",
       "4                     NaN               NaN    2021-10-05 22:36  ...      NaN   \n",
       "\n",
       "   Country Zip Code Remark from buyer Order Complete Time  Note  product_id  \\\n",
       "0       SG   734688               NaN    2021-07-03 20:34   NaN  8406662315   \n",
       "1       SG   459109               NaN    2021-07-16 08:08   NaN  8406662315   \n",
       "2       SG   545084               NaN    2021-07-30 21:44   NaN  8406662315   \n",
       "3       SG   208787               NaN    2021-10-04 12:37   NaN  8406662315   \n",
       "4       SG   460106               NaN                 NaN   NaN  8406662315   \n",
       "\n",
       "                                        product_name  \\\n",
       "0  Hot Magnetic Back Support Brace Belt Lumbar Lo...   \n",
       "1  Hot Magnetic Back Support Brace Belt Lumbar Lo...   \n",
       "2  Hot Magnetic Back Support Brace Belt Lumbar Lo...   \n",
       "3  Hot Magnetic Back Support Brace Belt Lumbar Lo...   \n",
       "4  Hot Magnetic Back Support Brace Belt Lumbar Lo...   \n",
       "\n",
       "                                          categories  \\\n",
       "0  100432 - Health/Medical Supplies/Injury & Disa...   \n",
       "1  100432 - Health/Medical Supplies/Injury & Disa...   \n",
       "2  100432 - Health/Medical Supplies/Injury & Disa...   \n",
       "3  100432 - Health/Medical Supplies/Injury & Disa...   \n",
       "4  100432 - Health/Medical Supplies/Injury & Disa...   \n",
       "\n",
       "                                           image_url  \n",
       "0  https://cf.shopee.sg/file/333f8f876721b0dd1a11...  \n",
       "1  https://cf.shopee.sg/file/333f8f876721b0dd1a11...  \n",
       "2  https://cf.shopee.sg/file/333f8f876721b0dd1a11...  \n",
       "3  https://cf.shopee.sg/file/333f8f876721b0dd1a11...  \n",
       "4  https://cf.shopee.sg/file/333f8f876721b0dd1a11...  \n",
       "\n",
       "[5 rows x 60 columns]"
      ]
     },
     "execution_count": 22,
     "metadata": {},
     "output_type": "execute_result"
    }
   ],
   "source": [
    "transaction_data.head()"
   ]
  },
  {
   "cell_type": "markdown",
   "id": "ed596b37-2ede-4f75-8554-228f4d35eb4d",
   "metadata": {
    "tags": []
   },
   "source": [
    "### Data PreProcessing\n",
    "- Convert Raw Transactional Data into Interaction Data that can be input into recommender models\n",
    "- Highlight steps:\n",
    "    - Interaction Data Should be Warm - i.e. users should have at least x purchases, where x must be above 1\n",
    "    - Item and User Names are mapped to IDs\n",
    "    - If a customer buys an item multiple times, that information gets added to the \"rating\" column, denoting the strength of the r/s"
   ]
  },
  {
   "cell_type": "code",
   "execution_count": 25,
   "id": "9727ff6e-d5e7-412b-9c45-1fa510291d53",
   "metadata": {},
   "outputs": [],
   "source": [
    "processed_transaction_data = clean_transaction_data(transaction_data, DESIRED_COLS_TRANSACTION_FILE)"
   ]
  },
  {
   "cell_type": "code",
   "execution_count": 26,
   "id": "90d8f5a3-9193-47f6-9220-6082d47d1de0",
   "metadata": {},
   "outputs": [
    {
     "data": {
      "text/html": [
       "<div>\n",
       "<style scoped>\n",
       "    .dataframe tbody tr th:only-of-type {\n",
       "        vertical-align: middle;\n",
       "    }\n",
       "\n",
       "    .dataframe tbody tr th {\n",
       "        vertical-align: top;\n",
       "    }\n",
       "\n",
       "    .dataframe thead th {\n",
       "        text-align: right;\n",
       "    }\n",
       "</style>\n",
       "<table border=\"1\" class=\"dataframe\">\n",
       "  <thead>\n",
       "    <tr style=\"text-align: right;\">\n",
       "      <th></th>\n",
       "      <th>Order ID</th>\n",
       "      <th>Original Price</th>\n",
       "      <th>Username (Buyer)</th>\n",
       "      <th>Product Name</th>\n",
       "      <th>product_id</th>\n",
       "    </tr>\n",
       "  </thead>\n",
       "  <tbody>\n",
       "    <tr>\n",
       "      <th>0</th>\n",
       "      <td>210701QSRHFY5W</td>\n",
       "      <td>15.8</td>\n",
       "      <td>iralia7801</td>\n",
       "      <td>Hot Magnetic Back Support Brace Belt Lumbar Lo...</td>\n",
       "      <td>8406662315</td>\n",
       "    </tr>\n",
       "    <tr>\n",
       "      <th>1</th>\n",
       "      <td>210708D2XTB5TJ</td>\n",
       "      <td>15.8</td>\n",
       "      <td>z8852ay3gp</td>\n",
       "      <td>Hot Magnetic Back Support Brace Belt Lumbar Lo...</td>\n",
       "      <td>8406662315</td>\n",
       "    </tr>\n",
       "    <tr>\n",
       "      <th>2</th>\n",
       "      <td>210725SHRE6FM4</td>\n",
       "      <td>9.9</td>\n",
       "      <td>6ltmsjbpw2</td>\n",
       "      <td>Hot Magnetic Back Support Brace Belt Lumbar Lo...</td>\n",
       "      <td>8406662315</td>\n",
       "    </tr>\n",
       "    <tr>\n",
       "      <th>3</th>\n",
       "      <td>211002RFG2874R</td>\n",
       "      <td>9.9</td>\n",
       "      <td>obuia9a4kv</td>\n",
       "      <td>Hot Magnetic Back Support Brace Belt Lumbar Lo...</td>\n",
       "      <td>8406662315</td>\n",
       "    </tr>\n",
       "    <tr>\n",
       "      <th>4</th>\n",
       "      <td>21100545WNFN2V</td>\n",
       "      <td>9.9</td>\n",
       "      <td>ahliahyunos</td>\n",
       "      <td>Hot Magnetic Back Support Brace Belt Lumbar Lo...</td>\n",
       "      <td>8406662315</td>\n",
       "    </tr>\n",
       "  </tbody>\n",
       "</table>\n",
       "</div>"
      ],
      "text/plain": [
       "         Order ID  Original Price Username (Buyer)  \\\n",
       "0  210701QSRHFY5W            15.8       iralia7801   \n",
       "1  210708D2XTB5TJ            15.8       z8852ay3gp   \n",
       "2  210725SHRE6FM4             9.9       6ltmsjbpw2   \n",
       "3  211002RFG2874R             9.9       obuia9a4kv   \n",
       "4  21100545WNFN2V             9.9      ahliahyunos   \n",
       "\n",
       "                                        Product Name  product_id  \n",
       "0  Hot Magnetic Back Support Brace Belt Lumbar Lo...  8406662315  \n",
       "1  Hot Magnetic Back Support Brace Belt Lumbar Lo...  8406662315  \n",
       "2  Hot Magnetic Back Support Brace Belt Lumbar Lo...  8406662315  \n",
       "3  Hot Magnetic Back Support Brace Belt Lumbar Lo...  8406662315  \n",
       "4  Hot Magnetic Back Support Brace Belt Lumbar Lo...  8406662315  "
      ]
     },
     "execution_count": 26,
     "metadata": {},
     "output_type": "execute_result"
    }
   ],
   "source": [
    "processed_transaction_data.head()"
   ]
  },
  {
   "cell_type": "code",
   "execution_count": 28,
   "id": "6b44ac6c-75b4-4732-a34e-feed531cf03d",
   "metadata": {},
   "outputs": [],
   "source": [
    "interaction_data, user_id_mapping, item_id_mapping = transform_transaction_to_interaction_data(processed_transaction_data, CONFIG['COL_USER'], CONFIG['COL_ITEM'], TRANSACTION_TO_INTERACTION_MAPPING, CONFIG['COL_RATING'])"
   ]
  },
  {
   "cell_type": "code",
   "execution_count": 15,
   "id": "409d6813-20ab-4772-800e-44ec6cb083ec",
   "metadata": {},
   "outputs": [
    {
     "data": {
      "text/html": [
       "<div>\n",
       "<style scoped>\n",
       "    .dataframe tbody tr th:only-of-type {\n",
       "        vertical-align: middle;\n",
       "    }\n",
       "\n",
       "    .dataframe tbody tr th {\n",
       "        vertical-align: top;\n",
       "    }\n",
       "\n",
       "    .dataframe thead th {\n",
       "        text-align: right;\n",
       "    }\n",
       "</style>\n",
       "<table border=\"1\" class=\"dataframe\">\n",
       "  <thead>\n",
       "    <tr style=\"text-align: right;\">\n",
       "      <th></th>\n",
       "      <th>user_id</th>\n",
       "      <th>item_id</th>\n",
       "      <th>rating</th>\n",
       "    </tr>\n",
       "  </thead>\n",
       "  <tbody>\n",
       "    <tr>\n",
       "      <th>0</th>\n",
       "      <td>.naminani_</td>\n",
       "      <td>12009015584</td>\n",
       "      <td>1</td>\n",
       "    </tr>\n",
       "    <tr>\n",
       "      <th>1</th>\n",
       "      <td>.sekura.</td>\n",
       "      <td>13671455179</td>\n",
       "      <td>1</td>\n",
       "    </tr>\n",
       "    <tr>\n",
       "      <th>2</th>\n",
       "      <td>.xinyi.89</td>\n",
       "      <td>15886095522</td>\n",
       "      <td>1</td>\n",
       "    </tr>\n",
       "    <tr>\n",
       "      <th>3</th>\n",
       "      <td>00dwnptymc</td>\n",
       "      <td>10690827974</td>\n",
       "      <td>4</td>\n",
       "    </tr>\n",
       "    <tr>\n",
       "      <th>4</th>\n",
       "      <td>02utgw4m43</td>\n",
       "      <td>21837443125</td>\n",
       "      <td>1</td>\n",
       "    </tr>\n",
       "    <tr>\n",
       "      <th>...</th>\n",
       "      <td>...</td>\n",
       "      <td>...</td>\n",
       "      <td>...</td>\n",
       "    </tr>\n",
       "    <tr>\n",
       "      <th>8786</th>\n",
       "      <td>zyza208</td>\n",
       "      <td>20901098335</td>\n",
       "      <td>2</td>\n",
       "    </tr>\n",
       "    <tr>\n",
       "      <th>8787</th>\n",
       "      <td>zziplex</td>\n",
       "      <td>20901098335</td>\n",
       "      <td>1</td>\n",
       "    </tr>\n",
       "    <tr>\n",
       "      <th>8788</th>\n",
       "      <td>zzzaharazzz</td>\n",
       "      <td>13671455179</td>\n",
       "      <td>1</td>\n",
       "    </tr>\n",
       "    <tr>\n",
       "      <th>8789</th>\n",
       "      <td>zzzmon5ter</td>\n",
       "      <td>5834933106</td>\n",
       "      <td>2</td>\n",
       "    </tr>\n",
       "    <tr>\n",
       "      <th>8790</th>\n",
       "      <td>zzzzzzzzana</td>\n",
       "      <td>18513751786</td>\n",
       "      <td>1</td>\n",
       "    </tr>\n",
       "  </tbody>\n",
       "</table>\n",
       "<p>8791 rows × 3 columns</p>\n",
       "</div>"
      ],
      "text/plain": [
       "          user_id      item_id  rating\n",
       "0      .naminani_  12009015584       1\n",
       "1        .sekura.  13671455179       1\n",
       "2       .xinyi.89  15886095522       1\n",
       "3      00dwnptymc  10690827974       4\n",
       "4      02utgw4m43  21837443125       1\n",
       "...           ...          ...     ...\n",
       "8786      zyza208  20901098335       2\n",
       "8787      zziplex  20901098335       1\n",
       "8788  zzzaharazzz  13671455179       1\n",
       "8789   zzzmon5ter   5834933106       2\n",
       "8790  zzzzzzzzana  18513751786       1\n",
       "\n",
       "[8791 rows x 3 columns]"
      ]
     },
     "execution_count": 29,
     "metadata": {},
     "output_type": "execute_result"
    }
   ],
   "source": [
    "interaction_data.head()"
   ]
  },
  {
   "cell_type": "code",
   "execution_count": 36,
   "id": "e5c454c5-89d4-498a-915c-ace178c8e371",
   "metadata": {},
   "outputs": [],
   "source": [
    "# this should be used to train the DEPLOYMENT model \n",
    "cleaned_interaction_dataset  = clean_interaction_data(CONFIG, interaction_data)"
   ]
  },
  {
   "cell_type": "code",
   "execution_count": 37,
   "id": "1400d88c-248d-4721-bc58-2d2354161318",
   "metadata": {},
   "outputs": [
    {
     "data": {
      "text/plain": [
       "user_id    object\n",
       "item_id    object\n",
       "rating      int64\n",
       "dtype: object"
      ]
     },
     "execution_count": 37,
     "metadata": {},
     "output_type": "execute_result"
    }
   ],
   "source": [
    "cleaned_interaction_dataset.dtypes"
   ]
  },
  {
   "cell_type": "code",
   "execution_count": 40,
   "id": "b2b1cd36-8443-488b-962a-87a23305d406",
   "metadata": {},
   "outputs": [
    {
     "data": {
      "text/html": [
       "<div>\n",
       "<style scoped>\n",
       "    .dataframe tbody tr th:only-of-type {\n",
       "        vertical-align: middle;\n",
       "    }\n",
       "\n",
       "    .dataframe tbody tr th {\n",
       "        vertical-align: top;\n",
       "    }\n",
       "\n",
       "    .dataframe thead th {\n",
       "        text-align: right;\n",
       "    }\n",
       "</style>\n",
       "<table border=\"1\" class=\"dataframe\">\n",
       "  <thead>\n",
       "    <tr style=\"text-align: right;\">\n",
       "      <th></th>\n",
       "      <th>user_id</th>\n",
       "      <th>item_id</th>\n",
       "      <th>rating</th>\n",
       "    </tr>\n",
       "  </thead>\n",
       "  <tbody>\n",
       "    <tr>\n",
       "      <th>0</th>\n",
       "      <td>.naminani_</td>\n",
       "      <td>12009015584</td>\n",
       "      <td>1</td>\n",
       "    </tr>\n",
       "    <tr>\n",
       "      <th>1</th>\n",
       "      <td>.sekura.</td>\n",
       "      <td>13671455179</td>\n",
       "      <td>1</td>\n",
       "    </tr>\n",
       "    <tr>\n",
       "      <th>2</th>\n",
       "      <td>.xinyi.89</td>\n",
       "      <td>15886095522</td>\n",
       "      <td>1</td>\n",
       "    </tr>\n",
       "    <tr>\n",
       "      <th>3</th>\n",
       "      <td>00dwnptymc</td>\n",
       "      <td>10690827974</td>\n",
       "      <td>1</td>\n",
       "    </tr>\n",
       "    <tr>\n",
       "      <th>4</th>\n",
       "      <td>02utgw4m43</td>\n",
       "      <td>21837443125</td>\n",
       "      <td>1</td>\n",
       "    </tr>\n",
       "  </tbody>\n",
       "</table>\n",
       "</div>"
      ],
      "text/plain": [
       "      user_id      item_id  rating\n",
       "0  .naminani_  12009015584       1\n",
       "1    .sekura.  13671455179       1\n",
       "2   .xinyi.89  15886095522       1\n",
       "3  00dwnptymc  10690827974       1\n",
       "4  02utgw4m43  21837443125       1"
      ]
     },
     "execution_count": 40,
     "metadata": {},
     "output_type": "execute_result"
    }
   ],
   "source": [
    "cleaned_interaction_dataset.head()"
   ]
  },
  {
   "cell_type": "code",
   "execution_count": 19,
   "id": "9b26d993-6701-42a0-bd5d-d271334211e0",
   "metadata": {},
   "outputs": [
    {
     "name": "stdout",
     "output_type": "stream",
     "text": [
      "\n",
      "        Total Interactions: 8791\n",
      "        Unique Users: 7808\n",
      "        Unique Items: 252\n",
      "        \n"
     ]
    }
   ],
   "source": [
    "show_dataset_stats(CONFIG, cleaned_interaction_dataset)"
   ]
  },
  {
   "cell_type": "code",
   "execution_count": 21,
   "id": "0cb82e91-b09c-419f-afb6-030d06bae27c",
   "metadata": {},
   "outputs": [
    {
     "data": {
      "text/plain": [
       "weirdyellow      12\n",
       "54bakery          8\n",
       "bignphat          7\n",
       "alexsanzo         7\n",
       "buycwy            6\n",
       "                 ..\n",
       "jolenetong95      2\n",
       "josephchua123     2\n",
       "joytan74          2\n",
       "jslucky           2\n",
       "mcklair           2\n",
       "Name: user_id, Length: 769, dtype: int64"
      ]
     },
     "execution_count": 21,
     "metadata": {},
     "output_type": "execute_result"
    }
   ],
   "source": [
    "cleaned_interaction_dataset[CONFIG['COL_USER']].value_counts()"
   ]
  },
  {
   "cell_type": "markdown",
   "id": "aa2babf3-0f48-42f6-9dab-629982d2c454",
   "metadata": {
    "tags": []
   },
   "source": [
    "### Train and Test Processing\n",
    "- Test set fulfills the conditions:\n",
    "    1. unseen in training set\n",
    "    2. users here must have had at least 2 interactions\n",
    "- training set fulfilled the conditions:\n",
    "    1. contains interactions not found in test set\n",
    "    2. allowed to have users with 1 (or more) interactions"
   ]
  },
  {
   "cell_type": "code",
   "execution_count": 86,
   "id": "bc669a17-21f5-41f0-ba74-18aae2f13224",
   "metadata": {},
   "outputs": [],
   "source": [
    "train, test = train_test_split(CONFIG, cleaned_interaction_dataset)"
   ]
  },
  {
   "cell_type": "code",
   "execution_count": 91,
   "id": "ab94cdad-204a-4014-9e3a-2c9dc0d5a8a4",
   "metadata": {},
   "outputs": [
    {
     "name": "stdout",
     "output_type": "stream",
     "text": [
      "\n",
      "        Total Interactions: 7960\n",
      "        Unique Users: 7808\n",
      "        Unique Items: 249\n",
      "        \n"
     ]
    }
   ],
   "source": [
    "show_dataset_stats(CONFIG, train)"
   ]
  },
  {
   "cell_type": "code",
   "execution_count": 92,
   "id": "78e26464-fafd-4431-9b7a-5fe8faddd2a8",
   "metadata": {},
   "outputs": [
    {
     "name": "stdout",
     "output_type": "stream",
     "text": [
      "\n",
      "        Total Interactions: 831\n",
      "        Unique Users: 769\n",
      "        Unique Items: 112\n",
      "        \n"
     ]
    }
   ],
   "source": [
    "show_dataset_stats(CONFIG, test)"
   ]
  },
  {
   "cell_type": "code",
   "execution_count": 89,
   "id": "38569be7-dcdd-456b-a1fb-425ed6750bd4",
   "metadata": {},
   "outputs": [],
   "source": [
    "# test.to_pickle(os.path.join(MODEL_TRAINING_DATA_DIR, \"test.pkl\"))\n",
    "# train.to_pickle(os.path.join(MODEL_TRAINING_DATA_DIR, \"train.pkl\"))"
   ]
  },
  {
   "cell_type": "code",
   "execution_count": 7,
   "id": "a52e08cb-d4c4-4833-a662-cf913997d117",
   "metadata": {},
   "outputs": [],
   "source": [
    "train = pd.read_pickle(os.path.join(MODEL_TRAINING_DATA_DIR, \"train.pkl\"))\n",
    "test = pd.read_pickle(os.path.join(MODEL_TRAINING_DATA_DIR, \"test.pkl\"))"
   ]
  },
  {
   "cell_type": "markdown",
   "id": "b3c0aaf9-3d61-4f0f-831f-37692da47384",
   "metadata": {
    "tags": []
   },
   "source": [
    "## Model Training and Evaluation: SAR"
   ]
  },
  {
   "cell_type": "code",
   "execution_count": 103,
   "id": "a0bd5045-8992-4aff-8d6a-cc2dd0210d8f",
   "metadata": {},
   "outputs": [],
   "source": [
    "performance = {}"
   ]
  },
  {
   "cell_type": "code",
   "execution_count": 102,
   "id": "47cdc4bf-754f-4b1e-a1cc-ef89d7ff9408",
   "metadata": {
    "tags": []
   },
   "outputs": [],
   "source": [
    "# Similarity types: [\"cooccurrence\" | \"cosine\" | \"inclusion index\" | \"jaccard\" | \"lift\" | \"mutual information\" | \"lexicographers mutual information\"]\n",
    "model_sar = SAR(\n",
    "    col_user=CONFIG['COL_USER'],\n",
    "    col_item=CONFIG['COL_ITEM'],\n",
    "    col_rating=CONFIG['COL_RATING'],\n",
    "    # col_timestamp=COL_TIMESTAMP,\n",
    "    similarity_type= \"lift\", \n",
    "    time_decay_coefficient=30, \n",
    "    timedecay_formula=False,\n",
    "    normalize=False\n",
    ")"
   ]
  },
  {
   "cell_type": "code",
   "execution_count": 97,
   "id": "41c33d5a-9dc9-4226-b521-ba32fec80f78",
   "metadata": {},
   "outputs": [],
   "source": [
    "# with Timer() as train_time:\n",
    "model_sar.fit(train)"
   ]
  },
  {
   "cell_type": "code",
   "execution_count": 104,
   "id": "e8f9d4a3-b49e-467f-a38d-b4ad7502400f",
   "metadata": {},
   "outputs": [],
   "source": [
    "sar_load(model_sar, MODEL_DIR)"
   ]
  },
  {
   "cell_type": "markdown",
   "id": "e97240dd-cd94-4ba4-96b6-c2f5c5014c47",
   "metadata": {},
   "source": [
    "## User based recommendation\n",
    "- recommend based on user ID input"
   ]
  },
  {
   "cell_type": "code",
   "execution_count": 106,
   "id": "74294cae-6511-41a6-91ad-cca215bbcbef",
   "metadata": {
    "tags": []
   },
   "outputs": [
    {
     "data": {
      "text/plain": [
       "{'SAR_user_based_recommend': 0.03446033810143043}"
      ]
     },
     "execution_count": 106,
     "metadata": {},
     "output_type": "execute_result"
    }
   ],
   "source": [
    "user_top_k = model_sar.recommend_k_items(test, top_k=TOP_K, remove_seen=True)\n",
    "eval_precision = precision_at_k(test, user_top_k, col_user=CONFIG['COL_USER'], col_item=CONFIG['COL_ITEM'], col_rating=CONFIG['COL_RATING'], k=CONFIG['TOP_K'])\n",
    "performance['SAR_user_based_recommend'] = eval_precision\n",
    "performance"
   ]
  },
  {
   "cell_type": "code",
   "execution_count": 107,
   "id": "945d9d54-be30-4f58-9428-d11eb3d5aea1",
   "metadata": {},
   "outputs": [
    {
     "data": {
      "text/html": [
       "<div>\n",
       "<style scoped>\n",
       "    .dataframe tbody tr th:only-of-type {\n",
       "        vertical-align: middle;\n",
       "    }\n",
       "\n",
       "    .dataframe tbody tr th {\n",
       "        vertical-align: top;\n",
       "    }\n",
       "\n",
       "    .dataframe thead th {\n",
       "        text-align: right;\n",
       "    }\n",
       "</style>\n",
       "<table border=\"1\" class=\"dataframe\">\n",
       "  <thead>\n",
       "    <tr style=\"text-align: right;\">\n",
       "      <th></th>\n",
       "      <th>user_id</th>\n",
       "      <th>item_id</th>\n",
       "      <th>prediction</th>\n",
       "    </tr>\n",
       "  </thead>\n",
       "  <tbody>\n",
       "    <tr>\n",
       "      <th>0</th>\n",
       "      <td>1cp2upf59l</td>\n",
       "      <td>20106913826</td>\n",
       "      <td>0.000916</td>\n",
       "    </tr>\n",
       "    <tr>\n",
       "      <th>1</th>\n",
       "      <td>1cp2upf59l</td>\n",
       "      <td>14591891500</td>\n",
       "      <td>0.000250</td>\n",
       "    </tr>\n",
       "    <tr>\n",
       "      <th>2</th>\n",
       "      <td>1cp2upf59l</td>\n",
       "      <td>4636251387</td>\n",
       "      <td>0.000211</td>\n",
       "    </tr>\n",
       "    <tr>\n",
       "      <th>3</th>\n",
       "      <td>1cp2upf59l</td>\n",
       "      <td>18516275838</td>\n",
       "      <td>0.000172</td>\n",
       "    </tr>\n",
       "    <tr>\n",
       "      <th>4</th>\n",
       "      <td>1cp2upf59l</td>\n",
       "      <td>11845518959</td>\n",
       "      <td>0.000095</td>\n",
       "    </tr>\n",
       "    <tr>\n",
       "      <th>...</th>\n",
       "      <td>...</td>\n",
       "      <td>...</td>\n",
       "      <td>...</td>\n",
       "    </tr>\n",
       "    <tr>\n",
       "      <th>7685</th>\n",
       "      <td>zvimyrl</td>\n",
       "      <td>21602981763</td>\n",
       "      <td>0.000000</td>\n",
       "    </tr>\n",
       "    <tr>\n",
       "      <th>7686</th>\n",
       "      <td>zvimyrl</td>\n",
       "      <td>19814763342</td>\n",
       "      <td>0.000000</td>\n",
       "    </tr>\n",
       "    <tr>\n",
       "      <th>7687</th>\n",
       "      <td>zvimyrl</td>\n",
       "      <td>13950585519</td>\n",
       "      <td>0.000000</td>\n",
       "    </tr>\n",
       "    <tr>\n",
       "      <th>7688</th>\n",
       "      <td>zvimyrl</td>\n",
       "      <td>18414274019</td>\n",
       "      <td>0.000000</td>\n",
       "    </tr>\n",
       "    <tr>\n",
       "      <th>7689</th>\n",
       "      <td>zvimyrl</td>\n",
       "      <td>16071702603</td>\n",
       "      <td>0.000000</td>\n",
       "    </tr>\n",
       "  </tbody>\n",
       "</table>\n",
       "<p>7690 rows × 3 columns</p>\n",
       "</div>"
      ],
      "text/plain": [
       "         user_id      item_id  prediction\n",
       "0     1cp2upf59l  20106913826    0.000916\n",
       "1     1cp2upf59l  14591891500    0.000250\n",
       "2     1cp2upf59l   4636251387    0.000211\n",
       "3     1cp2upf59l  18516275838    0.000172\n",
       "4     1cp2upf59l  11845518959    0.000095\n",
       "...          ...          ...         ...\n",
       "7685     zvimyrl  21602981763    0.000000\n",
       "7686     zvimyrl  19814763342    0.000000\n",
       "7687     zvimyrl  13950585519    0.000000\n",
       "7688     zvimyrl  18414274019    0.000000\n",
       "7689     zvimyrl  16071702603    0.000000\n",
       "\n",
       "[7690 rows x 3 columns]"
      ]
     },
     "execution_count": 107,
     "metadata": {},
     "output_type": "execute_result"
    }
   ],
   "source": [
    "user_top_k"
   ]
  },
  {
   "cell_type": "markdown",
   "id": "c704f983-ae3d-4331-a1a3-b4d5f0f2247e",
   "metadata": {},
   "source": [
    "## Popularity based recommendation\n",
    "- recommend most interacted items"
   ]
  },
  {
   "cell_type": "code",
   "execution_count": 108,
   "id": "0f0999ad-b6a4-4a3d-8f63-a8a433144736",
   "metadata": {},
   "outputs": [],
   "source": [
    "\"\"\"\n",
    "Recommend based on popularity:\n",
    "notes:\n",
    "For every user in the test set\n",
    "    Recommend the top k most popular items \n",
    "    (So all users get the same recommendations)\n",
    "Evaluate on test set\n",
    "\"\"\"\n",
    "def construct_popular_predictions_table(test, model, top_k):\n",
    "    user_ids = test.user_id.unique()\n",
    "    popular_items = model.get_popularity_based_topk(top_k = top_k)\n",
    "    output = pd.DataFrame()\n",
    "    for user_id in user_ids:\n",
    "        popular_items[\"user_id\"] = user_id\n",
    "        output = pd.concat([output, popular_items], axis = 0)\n",
    "    return output"
   ]
  },
  {
   "cell_type": "code",
   "execution_count": 109,
   "id": "044122f1-d415-4e93-82ae-67fdcc42c8fd",
   "metadata": {},
   "outputs": [
    {
     "data": {
      "text/plain": [
       "{'SAR_user_based_recommend': 0.03446033810143043,\n",
       " 'SAR_popularity_based_recommend': 0.042392717815344594}"
      ]
     },
     "execution_count": 109,
     "metadata": {},
     "output_type": "execute_result"
    }
   ],
   "source": [
    "pop_top_k = construct_popular_predictions_table(test = test, model = model_sar, top_k = TOP_K)\n",
    "eval_precision = precision_at_k(test, pop_top_k, col_user=CONFIG['COL_USER'], col_item=CONFIG['COL_ITEM'], col_rating=CONFIG['COL_RATING'], k=CONFIG['TOP_K'])\n",
    "performance['SAR_popularity_based_recommend'] = eval_precision\n",
    "performance     "
   ]
  },
  {
   "cell_type": "markdown",
   "id": "26b481ab-51cc-48ea-ac27-cdf6a25e557b",
   "metadata": {},
   "source": [
    "## Item based recommendation\n",
    "- recommend based on an item ID input"
   ]
  },
  {
   "cell_type": "code",
   "execution_count": 110,
   "id": "3b765bab-1f25-40ee-b046-548c05db9c99",
   "metadata": {},
   "outputs": [],
   "source": [
    "\"\"\"\n",
    "Recommend based on an item input\n",
    "notes:\n",
    "For every user-item pair in test set,\n",
    "    For that user, \n",
    "        take an interacted item in training set\n",
    "        make a prediction with that item\n",
    "Evaluate on test set\n",
    "\"\"\"\n",
    "def construct_item_based_predictions_table(config, train, test, model):\n",
    "    output = pd.DataFrame()\n",
    "    # for every user-item interaction in test set\n",
    "    for i in range(len(test)):\n",
    "        test_row = test.iloc[i]\n",
    "        test_user_id = test_row[config['COL_USER']]\n",
    "        test_item_id = test_row[config['COL_ITEM']]\n",
    "        # get the user's historical items\n",
    "        historical_interactions = train[train[config['COL_USER']]==test_user_id][config['COL_ITEM']].tolist()\n",
    "        # recommend based on 1 of that item\n",
    "        recommended_item_ids = model.get_item_based_topk(items = pd.DataFrame({\"item_id\":random.sample(historical_interactions, 1)}), \n",
    "                                                         top_k=config['TOP_K'])\n",
    "        recommended_item_ids[config['COL_USER']] = test_user_id\n",
    "        output = pd.concat([output, recommended_item_ids], axis = 0)\n",
    "    return output"
   ]
  },
  {
   "cell_type": "code",
   "execution_count": 111,
   "id": "48e3d614-9679-445f-9d87-6b6f0601903d",
   "metadata": {},
   "outputs": [
    {
     "data": {
      "text/plain": [
       "{'SAR_user_based_recommend': 0.03446033810143043,\n",
       " 'SAR_popularity_based_recommend': 0.042392717815344594,\n",
       " 'SAR_item_based_recommend': 0.03263979193758128}"
      ]
     },
     "execution_count": 111,
     "metadata": {},
     "output_type": "execute_result"
    }
   ],
   "source": [
    "item_top_k = construct_item_based_predictions_table(config = CONFIG, \n",
    "                                               train = train,\n",
    "                                               test = test,\n",
    "                                               model = model_sar)\n",
    "eval_precision = precision_at_k(test, item_top_k, col_user=CONFIG['COL_USER'], col_item=CONFIG['COL_ITEM'], col_rating=CONFIG['COL_RATING'], k=CONFIG['TOP_K'])\n",
    "performance['SAR_item_based_recommend'] = eval_precision\n",
    "performance   "
   ]
  },
  {
   "cell_type": "markdown",
   "id": "a9d33e23-4b36-415d-ab13-ee9e7a1a7dfe",
   "metadata": {},
   "source": [
    "## Hybrid recommend\n",
    "- recommend a combination of both popularity and user ID input"
   ]
  },
  {
   "cell_type": "code",
   "execution_count": 112,
   "id": "5c2c5ab3-b4ad-432a-b6ca-d532f7efd334",
   "metadata": {},
   "outputs": [],
   "source": [
    "user_top_k = model_sar.recommend_k_items(test, top_k=int(TOP_K/2), remove_seen=True)\n",
    "pop_top_k = construct_popular_predictions_table(test = test, model = model_sar, top_k = int(TOP_K/2))\n",
    "hybrid_top_k = pd.concat([user_top_k,pop_top_k], axis = 0)"
   ]
  },
  {
   "cell_type": "code",
   "execution_count": 113,
   "id": "48f5b245-9146-46e1-8ea1-20ea5f93c27f",
   "metadata": {},
   "outputs": [
    {
     "data": {
      "text/plain": [
       "{'SAR_user_based_recommend': 0.03446033810143043,\n",
       " 'SAR_popularity_based_recommend': 0.042392717815344594,\n",
       " 'SAR_item_based_recommend': 0.03263979193758128,\n",
       " 'merge_k': 0.05539661898569571}"
      ]
     },
     "execution_count": 113,
     "metadata": {},
     "output_type": "execute_result"
    }
   ],
   "source": [
    "eval_precision = precision_at_k(test, hybrid_top_k, col_user=CONFIG['COL_USER'], col_item=CONFIG['COL_ITEM'], col_rating=CONFIG['COL_RATING'], k=CONFIG['TOP_K'])\n",
    "performance['merge_k'] = eval_precision\n",
    "performance    "
   ]
  },
  {
   "cell_type": "markdown",
   "id": "2fa99f68-462d-43d8-9a60-77e2dba307b3",
   "metadata": {},
   "source": [
    "## Comparison"
   ]
  },
  {
   "cell_type": "code",
   "execution_count": 25,
   "id": "da1b486f-7a31-4916-a756-3ff8593df36e",
   "metadata": {},
   "outputs": [],
   "source": [
    "import seaborn as sb"
   ]
  },
  {
   "cell_type": "code",
   "execution_count": 26,
   "id": "c1f8b4bd-8cf2-445c-b89d-5596f17c87e7",
   "metadata": {},
   "outputs": [],
   "source": [
    "precison_tmp = {\n",
    "    \"User Based\":performance['SAR_user_based_recommend'], \n",
    "    \"Item Based\":performance['SAR_item_based_recommend'],\n",
    "    \"Popularity Based\":performance['SAR_popularity_based_recommend'],\n",
    "    \"Hybrid\":performance['merge_k']\n",
    "}   "
   ]
  },
  {
   "cell_type": "code",
   "execution_count": 27,
   "id": "fb5338b5-cbc2-48ac-99cb-662bbb1c5767",
   "metadata": {},
   "outputs": [
    {
     "data": {
      "text/plain": [
       "[Text(0.5, 0, 'Precision@10')]"
      ]
     },
     "execution_count": 27,
     "metadata": {},
     "output_type": "execute_result"
    },
    {
     "data": {
      "image/png": "[encoded data removed]",
      "text/plain": [
       "<Figure size 640x480 with 1 Axes>"
      ]
     },
     "metadata": {},
     "output_type": "display_data"
    }
   ],
   "source": [
    "p = sb.barplot(x = list(precison_tmp.values()),y = list(precison_tmp.keys()), palette = \"Accent\")\n",
    "p.set(xlabel = \"Precision@10\")"
   ]
  },
  {
   "cell_type": "markdown",
   "id": "9e63ab69-a25d-4571-b1b2-a8148cb1401a",
   "metadata": {},
   "source": [
    "## Save model"
   ]
  },
  {
   "cell_type": "code",
   "execution_count": 101,
   "id": "c212c991-4f26-4cb9-b325-5f30b5e85d3b",
   "metadata": {},
   "outputs": [],
   "source": [
    "save_sar(model_sar, r\"C:\\Users\\tanch\\Desktop\\Bot.World\\Bot.World\\src\\main\\api\\models\", \"arietes-sar\")"
   ]
  },
  {
   "cell_type": "code",
   "execution_count": 116,
   "id": "f0f7c573-a2cf-4b3f-b852-49c470bf2744",
   "metadata": {},
   "outputs": [
    {
     "data": {
      "text/plain": [
       "4"
      ]
     },
     "execution_count": 116,
     "metadata": {},
     "output_type": "execute_result"
    }
   ],
   "source": [
    "9//2"
   ]
  },
  {
   "cell_type": "markdown",
   "id": "dd9a52d6-2131-4ee0-aeef-1a374b7e17fb",
   "metadata": {
    "tags": []
   },
   "source": [
    "## load and predict"
   ]
  },
  {
   "cell_type": "code",
   "execution_count": 35,
   "id": "3b597a3b-7713-497c-bcd1-c158944d7921",
   "metadata": {
    "tags": []
   },
   "outputs": [
    {
     "name": "stdout",
     "output_type": "stream",
     "text": [
      "INFO:tensorflow:Restoring parameters from C:\\Users\\tanch\\Documents\\NTU\\NTU Year 4\\FYP - GNN\\Recommender API\\deploy-fastapi-recommendation-system\\src\\api\\models\\epoch_50\n"
     ]
    },
    {
     "data": {
      "text/plain": [
       "0.005344585091420536"
      ]
     },
     "execution_count": 35,
     "metadata": {},
     "output_type": "execute_result"
    }
   ],
   "source": [
    "save_path_str = r\"C:\\Users\\tanch\\Documents\\NTU\\NTU Year 4\\FYP - GNN\\Recommender API\\deploy-fastapi-recommendation-system\\src\\api\\models\\epoch_50\"\n",
    "model.load(save_path_str)\n",
    "top_k = model.recommend_k_items(test, top_k=TOP_K, remove_seen=True)\n",
    "eval_precision = precision_at_k(test, top_k, col_user=USER_ID_COL, col_item=ITEM_ID_COL, col_rating=RATING_COL, k=TOP_K)\n",
    "eval_precision     "
   ]
  },
  {
   "cell_type": "code",
   "execution_count": 77,
   "id": "24b89f78-a7a4-4690-b888-abb867372b79",
   "metadata": {
    "tags": []
   },
   "outputs": [
    {
     "data": {
      "text/html": [
       "<div>\n",
       "<style scoped>\n",
       "    .dataframe tbody tr th:only-of-type {\n",
       "        vertical-align: middle;\n",
       "    }\n",
       "\n",
       "    .dataframe tbody tr th {\n",
       "        vertical-align: top;\n",
       "    }\n",
       "\n",
       "    .dataframe thead th {\n",
       "        text-align: right;\n",
       "    }\n",
       "</style>\n",
       "<table border=\"1\" class=\"dataframe\">\n",
       "  <thead>\n",
       "    <tr style=\"text-align: right;\">\n",
       "      <th></th>\n",
       "      <th>user_id</th>\n",
       "      <th>item_id</th>\n",
       "      <th>prediction</th>\n",
       "    </tr>\n",
       "  </thead>\n",
       "  <tbody>\n",
       "    <tr>\n",
       "      <th>0</th>\n",
       "      <td>1cp2upf59l</td>\n",
       "      <td>11845518959</td>\n",
       "      <td>1.731541</td>\n",
       "    </tr>\n",
       "    <tr>\n",
       "      <th>1</th>\n",
       "      <td>1cp2upf59l</td>\n",
       "      <td>18516275838</td>\n",
       "      <td>1.599467</td>\n",
       "    </tr>\n",
       "    <tr>\n",
       "      <th>2</th>\n",
       "      <td>1cp2upf59l</td>\n",
       "      <td>14303478270</td>\n",
       "      <td>1.242138</td>\n",
       "    </tr>\n",
       "    <tr>\n",
       "      <th>3</th>\n",
       "      <td>1cp2upf59l</td>\n",
       "      <td>14782140731</td>\n",
       "      <td>1.221002</td>\n",
       "    </tr>\n",
       "    <tr>\n",
       "      <th>4</th>\n",
       "      <td>1cp2upf59l</td>\n",
       "      <td>19564733962</td>\n",
       "      <td>1.061905</td>\n",
       "    </tr>\n",
       "    <tr>\n",
       "      <th>5</th>\n",
       "      <td>1cp2upf59l</td>\n",
       "      <td>15403421090</td>\n",
       "      <td>0.960976</td>\n",
       "    </tr>\n",
       "    <tr>\n",
       "      <th>6</th>\n",
       "      <td>1cp2upf59l</td>\n",
       "      <td>19906893746</td>\n",
       "      <td>0.942554</td>\n",
       "    </tr>\n",
       "    <tr>\n",
       "      <th>7</th>\n",
       "      <td>1cp2upf59l</td>\n",
       "      <td>14675758106</td>\n",
       "      <td>0.936188</td>\n",
       "    </tr>\n",
       "    <tr>\n",
       "      <th>8</th>\n",
       "      <td>1cp2upf59l</td>\n",
       "      <td>21433429878</td>\n",
       "      <td>0.828105</td>\n",
       "    </tr>\n",
       "    <tr>\n",
       "      <th>9</th>\n",
       "      <td>1cp2upf59l</td>\n",
       "      <td>13117027913</td>\n",
       "      <td>0.794699</td>\n",
       "    </tr>\n",
       "  </tbody>\n",
       "</table>\n",
       "</div>"
      ],
      "text/plain": [
       "      user_id      item_id  prediction\n",
       "0  1cp2upf59l  11845518959    1.731541\n",
       "1  1cp2upf59l  18516275838    1.599467\n",
       "2  1cp2upf59l  14303478270    1.242138\n",
       "3  1cp2upf59l  14782140731    1.221002\n",
       "4  1cp2upf59l  19564733962    1.061905\n",
       "5  1cp2upf59l  15403421090    0.960976\n",
       "6  1cp2upf59l  19906893746    0.942554\n",
       "7  1cp2upf59l  14675758106    0.936188\n",
       "8  1cp2upf59l  21433429878    0.828105\n",
       "9  1cp2upf59l  13117027913    0.794699"
      ]
     },
     "execution_count": 77,
     "metadata": {},
     "output_type": "execute_result"
    }
   ],
   "source": [
    "model.recommend_k_items(pd.DataFrame({\"user_id\":[\"1cp2upf59l\"]}), top_k=TOP_K, remove_seen=True)"
   ]
  },
  {
   "cell_type": "code",
   "execution_count": 1,
   "id": "70a97853-d98a-4445-9471-e46978ddecf9",
   "metadata": {},
   "outputs": [],
   "source": [
    "import pandas as pd\n",
    "data = pd.read_pickle(r\"C:\\Users\\tanch\\Documents\\NTU\\NTU Year 4\\FYP - GNN\\data\\shopee-20221117T041452Z-001\\interaction data\\train.pkl\")"
   ]
  },
  {
   "cell_type": "code",
   "execution_count": 8,
   "id": "c8aea33c-ed48-4d8f-ac65-7203809b0e4f",
   "metadata": {},
   "outputs": [
    {
     "data": {
      "text/plain": [
       "1508    17971710101\n",
       "1513    22203168551\n",
       "1506    16071702603\n",
       "1512    21869596899\n",
       "1504    14266408742\n",
       "1510    20860078856\n",
       "Name: item_id, dtype: int64"
      ]
     },
     "execution_count": 8,
     "metadata": {},
     "output_type": "execute_result"
    }
   ],
   "source": [
    "data[data.user_id == \"weirdyellow\"   ].item_id"
   ]
  },
  {
   "cell_type": "code",
   "execution_count": 4,
   "id": "9f4d5359-24fd-440e-8e6a-818c87844815",
   "metadata": {},
   "outputs": [
    {
     "data": {
      "text/plain": [
       "weirdyellow    6\n",
       "alexsanzo      4\n",
       "54bakery       4\n",
       "bignphat       4\n",
       "buycwy         3\n",
       "lynasally      3\n",
       "ms.idaa89      3\n",
       "jelzheng       2\n",
       "ismailtaib     2\n",
       "johnwong435    2\n",
       "Name: user_id, dtype: int64"
      ]
     },
     "execution_count": 4,
     "metadata": {},
     "output_type": "execute_result"
    }
   ],
   "source": [
    "data.user_id.value_counts()[:10]"
   ]
  },
  {
   "cell_type": "code",
   "execution_count": 11,
   "id": "302a0ea3-239e-444b-b205-1c0c46ec7e53",
   "metadata": {},
   "outputs": [
    {
     "data": {
      "text/html": [
       "<div>\n",
       "<style scoped>\n",
       "    .dataframe tbody tr th:only-of-type {\n",
       "        vertical-align: middle;\n",
       "    }\n",
       "\n",
       "    .dataframe tbody tr th {\n",
       "        vertical-align: top;\n",
       "    }\n",
       "\n",
       "    .dataframe thead th {\n",
       "        text-align: right;\n",
       "    }\n",
       "</style>\n",
       "<table border=\"1\" class=\"dataframe\">\n",
       "  <thead>\n",
       "    <tr style=\"text-align: right;\">\n",
       "      <th></th>\n",
       "      <th>product_id</th>\n",
       "      <th>product_name</th>\n",
       "      <th>categories</th>\n",
       "      <th>image_url</th>\n",
       "    </tr>\n",
       "  </thead>\n",
       "  <tbody>\n",
       "    <tr>\n",
       "      <th>33</th>\n",
       "      <td>22203168551</td>\n",
       "      <td>Shoulder Ice Pack for Rotator Cuff Injuries, R...</td>\n",
       "      <td>100712 - Home &amp; Living/Hand Warmers, Hot Water...</td>\n",
       "      <td>https://cf.shopee.sg/file/sg-11134201-22100-n8...</td>\n",
       "    </tr>\n",
       "    <tr>\n",
       "      <th>46</th>\n",
       "      <td>21869596899</td>\n",
       "      <td>Hip Ice Pack Wrap for Bursitis Pain Relief Reu...</td>\n",
       "      <td>100712 - Home &amp; Living/Hand Warmers, Hot Water...</td>\n",
       "      <td>https://cf.shopee.sg/file/sg-11134201-22120-x9...</td>\n",
       "    </tr>\n",
       "    <tr>\n",
       "      <th>84</th>\n",
       "      <td>20860078856</td>\n",
       "      <td>Wrist Ice Gel Pack with Support Brace for Hot ...</td>\n",
       "      <td>100432 - Health/Medical Supplies/Injury &amp; Disa...</td>\n",
       "      <td>https://cf.shopee.sg/file/sg-11134201-22110-f2...</td>\n",
       "    </tr>\n",
       "    <tr>\n",
       "      <th>158</th>\n",
       "      <td>17971710101</td>\n",
       "      <td>SG Seller Ankle Pain Relieve hot cool gel pack...</td>\n",
       "      <td>100432 - Health/Medical Supplies/Injury &amp; Disa...</td>\n",
       "      <td>https://cf.shopee.sg/file/2940d22807b793d0fec9...</td>\n",
       "    </tr>\n",
       "    <tr>\n",
       "      <th>210</th>\n",
       "      <td>16071702603</td>\n",
       "      <td>SG Seller Gel Ice pack Hot Cold Gel Bead Ice F...</td>\n",
       "      <td>100898 - Beauty/Skincare/Face Mask &amp; Packs</td>\n",
       "      <td>https://cf.shopee.sg/file/22fd5268fa3093fd17ac...</td>\n",
       "    </tr>\n",
       "    <tr>\n",
       "      <th>242</th>\n",
       "      <td>14266408742</td>\n",
       "      <td>SG Seller Hot Cold Reusable and Flexible Gel I...</td>\n",
       "      <td>100432 - Health/Medical Supplies/Injury &amp; Disa...</td>\n",
       "      <td>https://cf.shopee.sg/file/ae1eaf10e8858389c737...</td>\n",
       "    </tr>\n",
       "  </tbody>\n",
       "</table>\n",
       "</div>"
      ],
      "text/plain": [
       "      product_id                                       product_name  \\\n",
       "33   22203168551  Shoulder Ice Pack for Rotator Cuff Injuries, R...   \n",
       "46   21869596899  Hip Ice Pack Wrap for Bursitis Pain Relief Reu...   \n",
       "84   20860078856  Wrist Ice Gel Pack with Support Brace for Hot ...   \n",
       "158  17971710101  SG Seller Ankle Pain Relieve hot cool gel pack...   \n",
       "210  16071702603  SG Seller Gel Ice pack Hot Cold Gel Bead Ice F...   \n",
       "242  14266408742  SG Seller Hot Cold Reusable and Flexible Gel I...   \n",
       "\n",
       "                                            categories  \\\n",
       "33   100712 - Home & Living/Hand Warmers, Hot Water...   \n",
       "46   100712 - Home & Living/Hand Warmers, Hot Water...   \n",
       "84   100432 - Health/Medical Supplies/Injury & Disa...   \n",
       "158  100432 - Health/Medical Supplies/Injury & Disa...   \n",
       "210         100898 - Beauty/Skincare/Face Mask & Packs   \n",
       "242  100432 - Health/Medical Supplies/Injury & Disa...   \n",
       "\n",
       "                                             image_url  \n",
       "33   https://cf.shopee.sg/file/sg-11134201-22100-n8...  \n",
       "46   https://cf.shopee.sg/file/sg-11134201-22120-x9...  \n",
       "84   https://cf.shopee.sg/file/sg-11134201-22110-f2...  \n",
       "158  https://cf.shopee.sg/file/2940d22807b793d0fec9...  \n",
       "210  https://cf.shopee.sg/file/22fd5268fa3093fd17ac...  \n",
       "242  https://cf.shopee.sg/file/ae1eaf10e8858389c737...  "
      ]
     },
     "execution_count": 11,
     "metadata": {},
     "output_type": "execute_result"
    }
   ],
   "source": [
    "media_data[media_data.product_id.isin(data[data.user_id == \"weirdyellow\"   ].item_id)]"
   ]
  },
  {
   "cell_type": "code",
   "execution_count": null,
   "id": "812357a1-7371-49c4-a1e9-fa2d3a8bc452",
   "metadata": {},
   "outputs": [],
   "source": []
  },
  {
   "cell_type": "code",
   "execution_count": 13,
   "id": "85376480-6fab-4bdb-bf43-fa7fe2d96763",
   "metadata": {},
   "outputs": [],
   "source": [
    "global_model = SAR(\n",
    "        col_user=USER_ID_COL,\n",
    "        col_item=ITEM_ID_COL,\n",
    "        col_rating=RATING_COL,\n",
    "        similarity_type=\"jaccard\", \n",
    "        time_decay_coefficient=30, \n",
    "        timedecay_formula=False,\n",
    "        normalize=False\n",
    "    )\n",
    "sar_load(global_model, MODEL_DIR)"
   ]
  },
  {
   "cell_type": "code",
   "execution_count": 20,
   "id": "0a443042-44d7-4c00-8448-4eccbf0d7fc6",
   "metadata": {},
   "outputs": [
    {
     "ename": "AttributeError",
     "evalue": "'NoneType' object has no attribute 'get'",
     "output_type": "error",
     "traceback": [
      "\u001b[1;31m---------------------------------------------------------------------------\u001b[0m",
      "\u001b[1;31mAttributeError\u001b[0m                            Traceback (most recent call last)",
      "Cell \u001b[1;32mIn [20], line 9\u001b[0m\n\u001b[0;32m      5\u001b[0m     model_output \u001b[38;5;241m=\u001b[39m global_model\u001b[38;5;241m.\u001b[39mrecommend_k_items(test \u001b[38;5;241m=\u001b[39m pd\u001b[38;5;241m.\u001b[39mDataFrame({\u001b[38;5;124m\"\u001b[39m\u001b[38;5;124muser_id\u001b[39m\u001b[38;5;124m\"\u001b[39m:[\u001b[38;5;124m\"\u001b[39m\u001b[38;5;124mbuycwy\u001b[39m\u001b[38;5;124m\"\u001b[39m]}), \n\u001b[0;32m      6\u001b[0m                                                   top_k\u001b[38;5;241m=\u001b[39m\u001b[38;5;241m5\u001b[39m, \n\u001b[0;32m      7\u001b[0m                                                   remove_seen\u001b[38;5;241m=\u001b[39m\u001b[38;5;28;01mTrue\u001b[39;00m)\n\u001b[0;32m      8\u001b[0m \u001b[38;5;28;01melif\u001b[39;00m by \u001b[38;5;241m==\u001b[39m \u001b[38;5;124m\"\u001b[39m\u001b[38;5;124mitem\u001b[39m\u001b[38;5;124m\"\u001b[39m:\n\u001b[1;32m----> 9\u001b[0m     model_output \u001b[38;5;241m=\u001b[39m \u001b[43mglobal_model\u001b[49m\u001b[38;5;241;43m.\u001b[39;49m\u001b[43mget_item_based_topk\u001b[49m\u001b[43m(\u001b[49m\u001b[43mitems\u001b[49m\u001b[43m \u001b[49m\u001b[38;5;241;43m=\u001b[39;49m\u001b[43m \u001b[49m\u001b[43mpd\u001b[49m\u001b[38;5;241;43m.\u001b[39;49m\u001b[43mDataFrame\u001b[49m\u001b[43m(\u001b[49m\u001b[43m{\u001b[49m\u001b[38;5;124;43m\"\u001b[39;49m\u001b[38;5;124;43mitem_id\u001b[39;49m\u001b[38;5;124;43m\"\u001b[39;49m\u001b[43m:\u001b[49m\u001b[43m[\u001b[49m\u001b[38;5;241;43m17069323572\u001b[39;49m\u001b[43m]\u001b[49m\u001b[43m}\u001b[49m\u001b[43m)\u001b[49m\u001b[43m,\u001b[49m\u001b[43m \u001b[49m\n\u001b[0;32m     10\u001b[0m \u001b[43m                                                    \u001b[49m\u001b[43mtop_k\u001b[49m\u001b[38;5;241;43m=\u001b[39;49m\u001b[38;5;241;43m5\u001b[39;49m\u001b[43m)\u001b[49m\n\u001b[0;32m     11\u001b[0m \u001b[38;5;28;01melse\u001b[39;00m:\n\u001b[0;32m     12\u001b[0m     \u001b[38;5;66;03m# recommend by popularity by default\u001b[39;00m\n\u001b[0;32m     13\u001b[0m     model_output \u001b[38;5;241m=\u001b[39m global_model\u001b[38;5;241m.\u001b[39mget_popularity_based_topk(top_k\u001b[38;5;241m=\u001b[39m\u001b[38;5;241m5\u001b[39m)\n",
      "File \u001b[1;32m~\\anaconda3\\envs\\fyp1\\lib\\site-packages\\recommenders\\models\\sar\\sar_singlenode.py:438\u001b[0m, in \u001b[0;36mSARSingleNode.get_item_based_topk\u001b[1;34m(self, items, top_k, sort_top_k)\u001b[0m\n\u001b[0;32m    416\u001b[0m \u001b[38;5;124;03m\"\"\"Get top K similar items to provided seed items based on similarity metric defined.\u001b[39;00m\n\u001b[0;32m    417\u001b[0m \u001b[38;5;124;03mThis method will take a set of items and use them to recommend the most similar items to that set\u001b[39;00m\n\u001b[0;32m    418\u001b[0m \u001b[38;5;124;03mbased on the similarity matrix fit during training.\u001b[39;00m\n\u001b[1;32m   (...)\u001b[0m\n\u001b[0;32m    433\u001b[0m \u001b[38;5;124;03m    pandas.DataFrame: sorted top k recommendation items\u001b[39;00m\n\u001b[0;32m    434\u001b[0m \u001b[38;5;124;03m\"\"\"\u001b[39;00m\n\u001b[0;32m    436\u001b[0m \u001b[38;5;66;03m# convert item ids to indices\u001b[39;00m\n\u001b[0;32m    437\u001b[0m item_ids \u001b[38;5;241m=\u001b[39m np\u001b[38;5;241m.\u001b[39masarray(\n\u001b[1;32m--> 438\u001b[0m     \u001b[38;5;28;43mlist\u001b[39;49m\u001b[43m(\u001b[49m\n\u001b[0;32m    439\u001b[0m \u001b[43m        \u001b[49m\u001b[38;5;28;43mmap\u001b[39;49m\u001b[43m(\u001b[49m\n\u001b[0;32m    440\u001b[0m \u001b[43m            \u001b[49m\u001b[38;5;28;43;01mlambda\u001b[39;49;00m\u001b[43m \u001b[49m\u001b[43mitem\u001b[49m\u001b[43m:\u001b[49m\u001b[43m \u001b[49m\u001b[38;5;28;43mself\u001b[39;49m\u001b[38;5;241;43m.\u001b[39;49m\u001b[43mitem2index\u001b[49m\u001b[38;5;241;43m.\u001b[39;49m\u001b[43mget\u001b[49m\u001b[43m(\u001b[49m\u001b[43mitem\u001b[49m\u001b[43m,\u001b[49m\u001b[43m \u001b[49m\u001b[43mnp\u001b[49m\u001b[38;5;241;43m.\u001b[39;49m\u001b[43mNaN\u001b[49m\u001b[43m)\u001b[49m\u001b[43m,\u001b[49m\n\u001b[0;32m    441\u001b[0m \u001b[43m            \u001b[49m\u001b[43mitems\u001b[49m\u001b[43m[\u001b[49m\u001b[38;5;28;43mself\u001b[39;49m\u001b[38;5;241;43m.\u001b[39;49m\u001b[43mcol_item\u001b[49m\u001b[43m]\u001b[49m\u001b[38;5;241;43m.\u001b[39;49m\u001b[43mvalues\u001b[49m\u001b[43m,\u001b[49m\n\u001b[0;32m    442\u001b[0m \u001b[43m        \u001b[49m\u001b[43m)\u001b[49m\n\u001b[0;32m    443\u001b[0m \u001b[43m    \u001b[49m\u001b[43m)\u001b[49m\n\u001b[0;32m    444\u001b[0m )\n\u001b[0;32m    446\u001b[0m \u001b[38;5;66;03m# if no ratings were provided assume they are all 1\u001b[39;00m\n\u001b[0;32m    447\u001b[0m \u001b[38;5;28;01mif\u001b[39;00m \u001b[38;5;28mself\u001b[39m\u001b[38;5;241m.\u001b[39mcol_rating \u001b[38;5;129;01min\u001b[39;00m items\u001b[38;5;241m.\u001b[39mcolumns:\n",
      "File \u001b[1;32m~\\anaconda3\\envs\\fyp1\\lib\\site-packages\\recommenders\\models\\sar\\sar_singlenode.py:440\u001b[0m, in \u001b[0;36mSARSingleNode.get_item_based_topk.<locals>.<lambda>\u001b[1;34m(item)\u001b[0m\n\u001b[0;32m    416\u001b[0m \u001b[38;5;124;03m\"\"\"Get top K similar items to provided seed items based on similarity metric defined.\u001b[39;00m\n\u001b[0;32m    417\u001b[0m \u001b[38;5;124;03mThis method will take a set of items and use them to recommend the most similar items to that set\u001b[39;00m\n\u001b[0;32m    418\u001b[0m \u001b[38;5;124;03mbased on the similarity matrix fit during training.\u001b[39;00m\n\u001b[1;32m   (...)\u001b[0m\n\u001b[0;32m    433\u001b[0m \u001b[38;5;124;03m    pandas.DataFrame: sorted top k recommendation items\u001b[39;00m\n\u001b[0;32m    434\u001b[0m \u001b[38;5;124;03m\"\"\"\u001b[39;00m\n\u001b[0;32m    436\u001b[0m \u001b[38;5;66;03m# convert item ids to indices\u001b[39;00m\n\u001b[0;32m    437\u001b[0m item_ids \u001b[38;5;241m=\u001b[39m np\u001b[38;5;241m.\u001b[39masarray(\n\u001b[0;32m    438\u001b[0m     \u001b[38;5;28mlist\u001b[39m(\n\u001b[0;32m    439\u001b[0m         \u001b[38;5;28mmap\u001b[39m(\n\u001b[1;32m--> 440\u001b[0m             \u001b[38;5;28;01mlambda\u001b[39;00m item: \u001b[38;5;28;43mself\u001b[39;49m\u001b[38;5;241;43m.\u001b[39;49m\u001b[43mitem2index\u001b[49m\u001b[38;5;241;43m.\u001b[39;49m\u001b[43mget\u001b[49m(item, np\u001b[38;5;241m.\u001b[39mNaN),\n\u001b[0;32m    441\u001b[0m             items[\u001b[38;5;28mself\u001b[39m\u001b[38;5;241m.\u001b[39mcol_item]\u001b[38;5;241m.\u001b[39mvalues,\n\u001b[0;32m    442\u001b[0m         )\n\u001b[0;32m    443\u001b[0m     )\n\u001b[0;32m    444\u001b[0m )\n\u001b[0;32m    446\u001b[0m \u001b[38;5;66;03m# if no ratings were provided assume they are all 1\u001b[39;00m\n\u001b[0;32m    447\u001b[0m \u001b[38;5;28;01mif\u001b[39;00m \u001b[38;5;28mself\u001b[39m\u001b[38;5;241m.\u001b[39mcol_rating \u001b[38;5;129;01min\u001b[39;00m items\u001b[38;5;241m.\u001b[39mcolumns:\n",
      "\u001b[1;31mAttributeError\u001b[0m: 'NoneType' object has no attribute 'get'"
     ]
    }
   ],
   "source": [
    "recommended_item_ids = []\n",
    "by = \"item\"\n",
    "\n",
    "if by == \"user\":\n",
    "    model_output = global_model.recommend_k_items(test = pd.DataFrame({\"user_id\":[\"buycwy\"]}), \n",
    "                                                  top_k=5, \n",
    "                                                  remove_seen=True)\n",
    "elif by == \"item\":\n",
    "    model_output = global_model.get_item_based_topk(items = pd.DataFrame({\"item_id\":[17069323572]}), \n",
    "                                                    top_k=5)\n",
    "else:\n",
    "    # recommend by popularity by default\n",
    "    model_output = global_model.get_popularity_based_topk(top_k=5)\n",
    "\n",
    "\n",
    "recommended_item_ids = model_output[\"item_id\"].tolist()\n"
   ]
  },
  {
   "cell_type": "code",
   "execution_count": 19,
   "id": "5f0b1586-46d2-4ccf-b0ef-5805156aca3d",
   "metadata": {},
   "outputs": [
    {
     "data": {
      "text/html": [
       "<div>\n",
       "<style scoped>\n",
       "    .dataframe tbody tr th:only-of-type {\n",
       "        vertical-align: middle;\n",
       "    }\n",
       "\n",
       "    .dataframe tbody tr th {\n",
       "        vertical-align: top;\n",
       "    }\n",
       "\n",
       "    .dataframe thead th {\n",
       "        text-align: right;\n",
       "    }\n",
       "</style>\n",
       "<table border=\"1\" class=\"dataframe\">\n",
       "  <thead>\n",
       "    <tr style=\"text-align: right;\">\n",
       "      <th></th>\n",
       "      <th>user_id</th>\n",
       "      <th>item_id</th>\n",
       "      <th>prediction</th>\n",
       "    </tr>\n",
       "  </thead>\n",
       "  <tbody>\n",
       "    <tr>\n",
       "      <th>0</th>\n",
       "      <td>buycwy</td>\n",
       "      <td>17069323572</td>\n",
       "      <td>0.250000</td>\n",
       "    </tr>\n",
       "    <tr>\n",
       "      <th>1</th>\n",
       "      <td>buycwy</td>\n",
       "      <td>2952217870</td>\n",
       "      <td>0.125000</td>\n",
       "    </tr>\n",
       "    <tr>\n",
       "      <th>2</th>\n",
       "      <td>buycwy</td>\n",
       "      <td>3333330067</td>\n",
       "      <td>0.083333</td>\n",
       "    </tr>\n",
       "    <tr>\n",
       "      <th>3</th>\n",
       "      <td>buycwy</td>\n",
       "      <td>11845518959</td>\n",
       "      <td>0.083333</td>\n",
       "    </tr>\n",
       "    <tr>\n",
       "      <th>4</th>\n",
       "      <td>buycwy</td>\n",
       "      <td>18516275838</td>\n",
       "      <td>0.076923</td>\n",
       "    </tr>\n",
       "  </tbody>\n",
       "</table>\n",
       "</div>"
      ],
      "text/plain": [
       "  user_id      item_id  prediction\n",
       "0  buycwy  17069323572    0.250000\n",
       "1  buycwy   2952217870    0.125000\n",
       "2  buycwy   3333330067    0.083333\n",
       "3  buycwy  11845518959    0.083333\n",
       "4  buycwy  18516275838    0.076923"
      ]
     },
     "execution_count": 19,
     "metadata": {},
     "output_type": "execute_result"
    }
   ],
   "source": [
    "model_output"
   ]
  },
  {
   "cell_type": "code",
   "execution_count": 16,
   "id": "b96ca5fc-ea82-4c49-b164-d764f469443b",
   "metadata": {},
   "outputs": [
    {
     "data": {
      "text/plain": [
       "['buycwy', 'buycwy', 'buycwy', 'buycwy', 'buycwy']"
      ]
     },
     "execution_count": 16,
     "metadata": {},
     "output_type": "execute_result"
    }
   ],
   "source": [
    "recommended_item_ids"
   ]
  }
 ],
 "metadata": {
  "kernelspec": {
   "display_name": "Python 3 (ipykernel)",
   "language": "python",
   "name": "python3"
  },
  "language_info": {
   "codemirror_mode": {
    "name": "ipython",
    "version": 3
   },
   "file_extension": ".py",
   "mimetype": "text/x-python",
   "name": "python",
   "nbconvert_exporter": "python",
   "pygments_lexer": "ipython3",
   "version": "3.9.15"
  },
  "toc-showcode": false
 },
 "nbformat": 4,
 "nbformat_minor": 5
}
